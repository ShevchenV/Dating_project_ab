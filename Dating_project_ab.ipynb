{
 "cells": [
  {
   "cell_type": "markdown",
   "metadata": {},
   "source": [
    "# Проект: вариант 3\n",
    "\n",
    "Представьте, что вы работаете в крупном дейтинговом приложении.\n",
    "\n",
    "Помимо базовых функций, в приложении также имеется премиум-подписка, которая дает доступ к ряду важных дополнительных возможностей. Был проведен A/B тест, в рамках которого для новых пользователей из нескольких стран была изменена стоимость премиум-подписки* при покупке через две новые платежные системы. При этом стоимость пробного периода оставалась прежней.\n",
    "\n",
    "Проверьте:\n",
    "\n",
    "-Был ли эксперимент успешен в целом.\n",
    "\n",
    "*Деньги за подписку списываются ежемесячно до тех пор, пока пользователь её не отменит."
   ]
  },
  {
   "cell_type": "markdown",
   "metadata": {},
   "source": [
    "## Данные\n",
    "\n",
    "Всего есть три группы: тестовая (test), контрольная 1 (control_1) и контрольная 2 (control_2). Для каждой из них:\n",
    "\n",
    "users_*.csv – информация о пользователях:\n",
    "\n",
    "- uid – идентификатор пользователя\n",
    "- age – возраст\n",
    "- attraction_coeff – коэффициент привлекательности (от 0 до 1000, лайки/просмотры * 1000)\n",
    "- coins – число монеток (внутренняя валюта)\n",
    "- country – страна  \n",
    "- visit_days – в какие дни после регистрации пользователь посещал приложение (напр. в 1, затем в 7)\n",
    "- gender – пол\n",
    "- age_filter_start  – фильтр поиска, мин. значение \n",
    "- age_filter_end  – фильтр поиска, макс. значение \n",
    "- views_count – число полученных оценок \n",
    "- was_premium – был ли когда-либо премиум (либо пробный период премиум-статуса, либо купленный за деньги)\n",
    "- is_premium –  является ли премиум\n",
    "- total_revenue – нормированная выручка \n",
    "\n",
    "\n",
    "transactions_*.csv – информация о платежах пользователей:\n",
    "\n",
    "- uid – идентификатор пользователя\n",
    "- country – страна\n",
    "- joined_at – дата и время регистрации\n",
    "- paid_at – дата и время покупки\n",
    "- revenue – нормированная выручка\n",
    "- payment_id – идентификатор платежа\n",
    "- from_page – откуда пользователь перешел на страницу оплаты\n",
    "- product_type – тип продукта (trial_premium – пробная премиум-подписка, premium_no_trial – премиум-подписка без пробной, coins – подписка за внутреннюю валюту, other_type – другое) "
   ]
  },
  {
   "cell_type": "markdown",
   "metadata": {},
   "source": [
    "## Файлы:\n",
    "\n",
    "- users_test – информация о пользователях в тестовой группе. \n",
    "- users_control_1 – информация о пользователях в первой контрольной группе. \n",
    "- users_control_2 – информация о пользователях во второй контрольной группе. \n",
    "- transactions_test – информация о платежах пользователей в тестовой группе. \n",
    "- transactions_control_1 – информация о платежах пользователей в первой контрольной группе. \n",
    "- transactions_control_2 – информация о платежах пользователей во второй контрольной группе."
   ]
  },
  {
   "cell_type": "markdown",
   "metadata": {},
   "source": [
    "_____________________________________________________________________\n",
    "\n",
    "# Загрузка данных"
   ]
  },
  {
   "cell_type": "code",
   "execution_count": 1,
   "metadata": {},
   "outputs": [],
   "source": [
    "# Загружаем необходимые библиотеки\n",
    "\n",
    "import pandas as pd\n",
    "import numpy as np\n",
    "import requests\n",
    "from urllib.parse import urlencode\n",
    "from operator import attrgetter\n",
    "from datetime import timedelta\n",
    "import seaborn as sns\n",
    "import matplotlib.pyplot as plt\n",
    "from scipy import stats\n",
    "import scipy.stats as ss\n",
    "from scipy.stats import chi2_contingency, chi2, levene, ttest_ind, mannwhitneyu\n",
    "from scipy.stats import norm\n",
    "from scipy.stats import f_oneway\n",
    "from statsmodels. stats.multicomp import pairwise_tukeyhsd\n",
    "from tqdm.auto import tqdm"
   ]
  },
  {
   "cell_type": "code",
   "execution_count": 2,
   "metadata": {},
   "outputs": [],
   "source": [
    "# Прописываем источники для загрузки данных\n",
    "\n",
    "base_url     = 'https://cloud-api.yandex.net/v1/disk/public/resources/download?'\n",
    "public_key_1 = 'https://disk.yandex.ru/d/4XXIME4osGrMRA'  \n",
    "public_key_2 = 'https://disk.yandex.ru/d/yJFydMNNGkEKfg'  \n",
    "public_key_3 = 'https://disk.yandex.ru/d/br6KkQupzzTGoQ'\n",
    "public_key_4 = 'https://disk.yandex.ru/d/gvCWpZ55ODzs2g'\n",
    "public_key_5 = 'https://disk.yandex.ru/d/VY5W0keMX5TZBQ'\n",
    "public_key_6 = 'https://disk.yandex.ru/d/th5GL0mGOc-qzg'\n",
    "\n",
    "# Получаем загрузочные ссылки\n",
    "\n",
    "final_url_1    = base_url + urlencode(dict(public_key=public_key_1))\n",
    "response_1     = requests.get(final_url_1)\n",
    "download_url_1 = response_1.json()['href']\n",
    "\n",
    "final_url_2    = base_url + urlencode(dict(public_key=public_key_2))\n",
    "response_2     = requests.get(final_url_2)\n",
    "download_url_2 = response_2.json()['href']\n",
    "\n",
    "final_url_3    = base_url + urlencode(dict(public_key=public_key_3))\n",
    "response_3     = requests.get(final_url_3)\n",
    "download_url_3 = response_3.json()['href']\n",
    "\n",
    "final_url_4    = base_url + urlencode(dict(public_key=public_key_4))\n",
    "response_4     = requests.get(final_url_4)\n",
    "download_url_4 = response_4.json()['href']\n",
    "\n",
    "final_url_5    = base_url + urlencode(dict(public_key=public_key_5))\n",
    "response_5     = requests.get(final_url_5)\n",
    "download_url_5 = response_5.json()['href']\n",
    "\n",
    "final_url_6    = base_url + urlencode(dict(public_key=public_key_6))\n",
    "response_6     = requests.get(final_url_6)\n",
    "download_url_6 = response_6.json()['href']"
   ]
  },
  {
   "cell_type": "code",
   "execution_count": 3,
   "metadata": {},
   "outputs": [],
   "source": [
    "# Считываем данные для задания\n",
    "\n",
    "users_test             = pd.read_csv(download_url_1, error_bad_lines=False, sep=';')\n",
    "users_control_1        = pd.read_csv(download_url_2, error_bad_lines=False, sep=';')\n",
    "users_control_2        = pd.read_csv(download_url_3, error_bad_lines=False, sep=';')\n",
    "transactions_test      = pd.read_csv(download_url_4, error_bad_lines=False, sep=';')\n",
    "transactions_control_1 = pd.read_csv(download_url_5, error_bad_lines=False, sep=';')\n",
    "transactions_control_2 = pd.read_csv(download_url_6, error_bad_lines=False, sep=';')"
   ]
  },
  {
   "cell_type": "markdown",
   "metadata": {},
   "source": [
    "___________________"
   ]
  },
  {
   "cell_type": "markdown",
   "metadata": {},
   "source": [
    " # Изучение данных / предварительная обработка"
   ]
  },
  {
   "cell_type": "markdown",
   "metadata": {},
   "source": [
    "## Сперва проверим данные о пользователях платформы"
   ]
  },
  {
   "cell_type": "code",
   "execution_count": 4,
   "metadata": {},
   "outputs": [
    {
     "data": {
      "text/html": [
       "<div>\n",
       "<style scoped>\n",
       "    .dataframe tbody tr th:only-of-type {\n",
       "        vertical-align: middle;\n",
       "    }\n",
       "\n",
       "    .dataframe tbody tr th {\n",
       "        vertical-align: top;\n",
       "    }\n",
       "\n",
       "    .dataframe thead th {\n",
       "        text-align: right;\n",
       "    }\n",
       "</style>\n",
       "<table border=\"1\" class=\"dataframe\">\n",
       "  <thead>\n",
       "    <tr style=\"text-align: right;\">\n",
       "      <th></th>\n",
       "      <th>uid</th>\n",
       "      <th>age</th>\n",
       "      <th>attraction_coeff</th>\n",
       "      <th>coins</th>\n",
       "      <th>country</th>\n",
       "      <th>visit_days</th>\n",
       "      <th>gender</th>\n",
       "      <th>age_filter_start</th>\n",
       "      <th>age_filter_end</th>\n",
       "      <th>views_count</th>\n",
       "      <th>was_premium</th>\n",
       "      <th>is_premium</th>\n",
       "      <th>total_revenue</th>\n",
       "    </tr>\n",
       "  </thead>\n",
       "  <tbody>\n",
       "    <tr>\n",
       "      <th>0</th>\n",
       "      <td>892309896</td>\n",
       "      <td>27</td>\n",
       "      <td>685</td>\n",
       "      <td>NaN</td>\n",
       "      <td>United States of America</td>\n",
       "      <td>1,2,3,4,5,6,7,8,9,10,11,12,16,17</td>\n",
       "      <td>1</td>\n",
       "      <td>24</td>\n",
       "      <td>30</td>\n",
       "      <td>89</td>\n",
       "      <td>NaN</td>\n",
       "      <td>NaN</td>\n",
       "      <td>0</td>\n",
       "    </tr>\n",
       "    <tr>\n",
       "      <th>1</th>\n",
       "      <td>892044516</td>\n",
       "      <td>27</td>\n",
       "      <td>0</td>\n",
       "      <td>NaN</td>\n",
       "      <td>Germany</td>\n",
       "      <td>NaN</td>\n",
       "      <td>1</td>\n",
       "      <td>24</td>\n",
       "      <td>30</td>\n",
       "      <td>0</td>\n",
       "      <td>NaN</td>\n",
       "      <td>NaN</td>\n",
       "      <td>0</td>\n",
       "    </tr>\n",
       "    <tr>\n",
       "      <th>2</th>\n",
       "      <td>892185708</td>\n",
       "      <td>45</td>\n",
       "      <td>44</td>\n",
       "      <td>NaN</td>\n",
       "      <td>Israel</td>\n",
       "      <td>1,3,4,6,7,8,10,11,12,13,14,15,16,17,18,19,20,2...</td>\n",
       "      <td>1</td>\n",
       "      <td>42</td>\n",
       "      <td>48</td>\n",
       "      <td>68</td>\n",
       "      <td>NaN</td>\n",
       "      <td>NaN</td>\n",
       "      <td>0</td>\n",
       "    </tr>\n",
       "    <tr>\n",
       "      <th>3</th>\n",
       "      <td>892130292</td>\n",
       "      <td>32</td>\n",
       "      <td>0</td>\n",
       "      <td>NaN</td>\n",
       "      <td>United States of America</td>\n",
       "      <td>1,2,3,4,5,6,7,8,9,10,11,12</td>\n",
       "      <td>1</td>\n",
       "      <td>29</td>\n",
       "      <td>35</td>\n",
       "      <td>0</td>\n",
       "      <td>NaN</td>\n",
       "      <td>NaN</td>\n",
       "      <td>0</td>\n",
       "    </tr>\n",
       "    <tr>\n",
       "      <th>4</th>\n",
       "      <td>891406035</td>\n",
       "      <td>27</td>\n",
       "      <td>1000</td>\n",
       "      <td>NaN</td>\n",
       "      <td>France</td>\n",
       "      <td>NaN</td>\n",
       "      <td>1</td>\n",
       "      <td>24</td>\n",
       "      <td>30</td>\n",
       "      <td>1</td>\n",
       "      <td>1.0</td>\n",
       "      <td>NaN</td>\n",
       "      <td>0</td>\n",
       "    </tr>\n",
       "  </tbody>\n",
       "</table>\n",
       "</div>"
      ],
      "text/plain": [
       "         uid  age  attraction_coeff  coins                   country  \\\n",
       "0  892309896   27               685    NaN  United States of America   \n",
       "1  892044516   27                 0    NaN                   Germany   \n",
       "2  892185708   45                44    NaN                    Israel   \n",
       "3  892130292   32                 0    NaN  United States of America   \n",
       "4  891406035   27              1000    NaN                    France   \n",
       "\n",
       "                                          visit_days  gender  \\\n",
       "0                   1,2,3,4,5,6,7,8,9,10,11,12,16,17       1   \n",
       "1                                                NaN       1   \n",
       "2  1,3,4,6,7,8,10,11,12,13,14,15,16,17,18,19,20,2...       1   \n",
       "3                         1,2,3,4,5,6,7,8,9,10,11,12       1   \n",
       "4                                                NaN       1   \n",
       "\n",
       "   age_filter_start  age_filter_end  views_count  was_premium  is_premium  \\\n",
       "0                24              30           89          NaN         NaN   \n",
       "1                24              30            0          NaN         NaN   \n",
       "2                42              48           68          NaN         NaN   \n",
       "3                29              35            0          NaN         NaN   \n",
       "4                24              30            1          1.0         NaN   \n",
       "\n",
       "   total_revenue  \n",
       "0              0  \n",
       "1              0  \n",
       "2              0  \n",
       "3              0  \n",
       "4              0  "
      ]
     },
     "execution_count": 4,
     "metadata": {},
     "output_type": "execute_result"
    }
   ],
   "source": [
    "users_test.head(5)"
   ]
  },
  {
   "cell_type": "code",
   "execution_count": 5,
   "metadata": {},
   "outputs": [
    {
     "name": "stdout",
     "output_type": "stream",
     "text": [
      "<class 'pandas.core.frame.DataFrame'>\n",
      "RangeIndex: 4308 entries, 0 to 4307\n",
      "Data columns (total 13 columns):\n",
      " #   Column            Non-Null Count  Dtype  \n",
      "---  ------            --------------  -----  \n",
      " 0   uid               4308 non-null   int64  \n",
      " 1   age               4308 non-null   int64  \n",
      " 2   attraction_coeff  4308 non-null   int64  \n",
      " 3   coins             49 non-null     float64\n",
      " 4   country           4308 non-null   object \n",
      " 5   visit_days        2978 non-null   object \n",
      " 6   gender            4308 non-null   int64  \n",
      " 7   age_filter_start  4308 non-null   int64  \n",
      " 8   age_filter_end    4308 non-null   int64  \n",
      " 9   views_count       4308 non-null   int64  \n",
      " 10  was_premium       408 non-null    float64\n",
      " 11  is_premium        157 non-null    float64\n",
      " 12  total_revenue     4308 non-null   int64  \n",
      "dtypes: float64(3), int64(8), object(2)\n",
      "memory usage: 437.7+ KB\n"
     ]
    }
   ],
   "source": [
    "users_test.info()"
   ]
  },
  {
   "cell_type": "markdown",
   "metadata": {},
   "source": [
    "Видим, что пропущенные значения есть в колонках: coins, visit_days, was_premium и is_premium.\n",
    "В данных столбцах пропущенные значения мы можем заменить на нули, так как, если данных о монетах, посещении, премиуме нет, то скорее всего значения отсутствовали (были нулевые) и поэтому не были записаны в df"
   ]
  },
  {
   "cell_type": "code",
   "execution_count": 6,
   "metadata": {},
   "outputs": [],
   "source": [
    "# Заменим пропуски нулями\n",
    "\n",
    "users_test['coins']       = users_test['coins'].fillna(0)\n",
    "users_test['visit_days']  = users_test['visit_days'].fillna(0)\n",
    "users_test['was_premium'] = users_test['was_premium'].fillna(0)\n",
    "users_test['is_premium']  = users_test['is_premium'].fillna(0)"
   ]
  },
  {
   "cell_type": "code",
   "execution_count": 7,
   "metadata": {},
   "outputs": [
    {
     "data": {
      "text/plain": [
       "0"
      ]
     },
     "execution_count": 7,
     "metadata": {},
     "output_type": "execute_result"
    }
   ],
   "source": [
    "# Проверим дубли в дф\n",
    "\n",
    "users_test.uid.duplicated().sum()"
   ]
  },
  {
   "cell_type": "markdown",
   "metadata": {},
   "source": [
    "-----------\n",
    "## Теперь все тоже самое с контрольными группами"
   ]
  },
  {
   "cell_type": "code",
   "execution_count": 8,
   "metadata": {},
   "outputs": [
    {
     "data": {
      "text/html": [
       "<div>\n",
       "<style scoped>\n",
       "    .dataframe tbody tr th:only-of-type {\n",
       "        vertical-align: middle;\n",
       "    }\n",
       "\n",
       "    .dataframe tbody tr th {\n",
       "        vertical-align: top;\n",
       "    }\n",
       "\n",
       "    .dataframe thead th {\n",
       "        text-align: right;\n",
       "    }\n",
       "</style>\n",
       "<table border=\"1\" class=\"dataframe\">\n",
       "  <thead>\n",
       "    <tr style=\"text-align: right;\">\n",
       "      <th></th>\n",
       "      <th>uid</th>\n",
       "      <th>age</th>\n",
       "      <th>attraction_coeff</th>\n",
       "      <th>coins</th>\n",
       "      <th>country</th>\n",
       "      <th>visit_days</th>\n",
       "      <th>gender</th>\n",
       "      <th>age_filter_start</th>\n",
       "      <th>age_filter_end</th>\n",
       "      <th>views_count</th>\n",
       "      <th>was_premium</th>\n",
       "      <th>is_premium</th>\n",
       "      <th>total_revenue</th>\n",
       "    </tr>\n",
       "  </thead>\n",
       "  <tbody>\n",
       "    <tr>\n",
       "      <th>0</th>\n",
       "      <td>892319115</td>\n",
       "      <td>25</td>\n",
       "      <td>435</td>\n",
       "      <td>NaN</td>\n",
       "      <td>United States of America</td>\n",
       "      <td>1,2,3,4,5,6</td>\n",
       "      <td>0</td>\n",
       "      <td>22</td>\n",
       "      <td>32</td>\n",
       "      <td>982</td>\n",
       "      <td>NaN</td>\n",
       "      <td>NaN</td>\n",
       "      <td>0</td>\n",
       "    </tr>\n",
       "    <tr>\n",
       "      <th>1</th>\n",
       "      <td>891248523</td>\n",
       "      <td>29</td>\n",
       "      <td>500</td>\n",
       "      <td>NaN</td>\n",
       "      <td>United States of America</td>\n",
       "      <td>1,2</td>\n",
       "      <td>1</td>\n",
       "      <td>26</td>\n",
       "      <td>32</td>\n",
       "      <td>12</td>\n",
       "      <td>NaN</td>\n",
       "      <td>NaN</td>\n",
       "      <td>0</td>\n",
       "    </tr>\n",
       "    <tr>\n",
       "      <th>2</th>\n",
       "      <td>891670932</td>\n",
       "      <td>33</td>\n",
       "      <td>800</td>\n",
       "      <td>NaN</td>\n",
       "      <td>France</td>\n",
       "      <td>1,2,3,5,6,8,9,11,13,16</td>\n",
       "      <td>1</td>\n",
       "      <td>30</td>\n",
       "      <td>36</td>\n",
       "      <td>5</td>\n",
       "      <td>NaN</td>\n",
       "      <td>NaN</td>\n",
       "      <td>0</td>\n",
       "    </tr>\n",
       "    <tr>\n",
       "      <th>3</th>\n",
       "      <td>891060786</td>\n",
       "      <td>26</td>\n",
       "      <td>0</td>\n",
       "      <td>NaN</td>\n",
       "      <td>Argentina</td>\n",
       "      <td>1,2,3,4,5</td>\n",
       "      <td>1</td>\n",
       "      <td>23</td>\n",
       "      <td>29</td>\n",
       "      <td>0</td>\n",
       "      <td>NaN</td>\n",
       "      <td>NaN</td>\n",
       "      <td>0</td>\n",
       "    </tr>\n",
       "    <tr>\n",
       "      <th>4</th>\n",
       "      <td>892006554</td>\n",
       "      <td>35</td>\n",
       "      <td>294</td>\n",
       "      <td>NaN</td>\n",
       "      <td>United States of America</td>\n",
       "      <td>1,2,3,5,6,7,8,9,10,12,15,16,17,19</td>\n",
       "      <td>1</td>\n",
       "      <td>30</td>\n",
       "      <td>40</td>\n",
       "      <td>17</td>\n",
       "      <td>NaN</td>\n",
       "      <td>NaN</td>\n",
       "      <td>0</td>\n",
       "    </tr>\n",
       "  </tbody>\n",
       "</table>\n",
       "</div>"
      ],
      "text/plain": [
       "         uid  age  attraction_coeff  coins                   country  \\\n",
       "0  892319115   25               435    NaN  United States of America   \n",
       "1  891248523   29               500    NaN  United States of America   \n",
       "2  891670932   33               800    NaN                    France   \n",
       "3  891060786   26                 0    NaN                 Argentina   \n",
       "4  892006554   35               294    NaN  United States of America   \n",
       "\n",
       "                          visit_days  gender  age_filter_start  \\\n",
       "0                        1,2,3,4,5,6       0                22   \n",
       "1                                1,2       1                26   \n",
       "2             1,2,3,5,6,8,9,11,13,16       1                30   \n",
       "3                          1,2,3,4,5       1                23   \n",
       "4  1,2,3,5,6,7,8,9,10,12,15,16,17,19       1                30   \n",
       "\n",
       "   age_filter_end  views_count  was_premium  is_premium  total_revenue  \n",
       "0              32          982          NaN         NaN              0  \n",
       "1              32           12          NaN         NaN              0  \n",
       "2              36            5          NaN         NaN              0  \n",
       "3              29            0          NaN         NaN              0  \n",
       "4              40           17          NaN         NaN              0  "
      ]
     },
     "execution_count": 8,
     "metadata": {},
     "output_type": "execute_result"
    }
   ],
   "source": [
    "users_control_1.head(5)"
   ]
  },
  {
   "cell_type": "code",
   "execution_count": 9,
   "metadata": {},
   "outputs": [
    {
     "name": "stdout",
     "output_type": "stream",
     "text": [
      "<class 'pandas.core.frame.DataFrame'>\n",
      "RangeIndex: 4340 entries, 0 to 4339\n",
      "Data columns (total 13 columns):\n",
      " #   Column            Non-Null Count  Dtype  \n",
      "---  ------            --------------  -----  \n",
      " 0   uid               4340 non-null   int64  \n",
      " 1   age               4340 non-null   int64  \n",
      " 2   attraction_coeff  4340 non-null   int64  \n",
      " 3   coins             60 non-null     float64\n",
      " 4   country           4340 non-null   object \n",
      " 5   visit_days        3016 non-null   object \n",
      " 6   gender            4340 non-null   int64  \n",
      " 7   age_filter_start  4340 non-null   int64  \n",
      " 8   age_filter_end    4340 non-null   int64  \n",
      " 9   views_count       4340 non-null   int64  \n",
      " 10  was_premium       436 non-null    float64\n",
      " 11  is_premium        192 non-null    float64\n",
      " 12  total_revenue     4340 non-null   int64  \n",
      "dtypes: float64(3), int64(8), object(2)\n",
      "memory usage: 440.9+ KB\n"
     ]
    }
   ],
   "source": [
    "users_control_1.info()"
   ]
  },
  {
   "cell_type": "code",
   "execution_count": 10,
   "metadata": {},
   "outputs": [],
   "source": [
    "users_control_1['coins']       = users_control_1['coins'].fillna(0)\n",
    "users_control_1['visit_days']  = users_control_1['visit_days'].fillna(0)\n",
    "users_control_1['was_premium'] = users_control_1['was_premium'].fillna(0)\n",
    "users_control_1['is_premium']  = users_control_1['is_premium'].fillna(0)"
   ]
  },
  {
   "cell_type": "code",
   "execution_count": 11,
   "metadata": {},
   "outputs": [
    {
     "data": {
      "text/plain": [
       "0"
      ]
     },
     "execution_count": 11,
     "metadata": {},
     "output_type": "execute_result"
    }
   ],
   "source": [
    "users_control_1.uid.duplicated().sum()"
   ]
  },
  {
   "cell_type": "markdown",
   "metadata": {},
   "source": [
    "______________________________"
   ]
  },
  {
   "cell_type": "code",
   "execution_count": 12,
   "metadata": {},
   "outputs": [
    {
     "data": {
      "text/html": [
       "<div>\n",
       "<style scoped>\n",
       "    .dataframe tbody tr th:only-of-type {\n",
       "        vertical-align: middle;\n",
       "    }\n",
       "\n",
       "    .dataframe tbody tr th {\n",
       "        vertical-align: top;\n",
       "    }\n",
       "\n",
       "    .dataframe thead th {\n",
       "        text-align: right;\n",
       "    }\n",
       "</style>\n",
       "<table border=\"1\" class=\"dataframe\">\n",
       "  <thead>\n",
       "    <tr style=\"text-align: right;\">\n",
       "      <th></th>\n",
       "      <th>uid</th>\n",
       "      <th>age</th>\n",
       "      <th>attraction_coeff</th>\n",
       "      <th>coins</th>\n",
       "      <th>country</th>\n",
       "      <th>visit_days</th>\n",
       "      <th>gender</th>\n",
       "      <th>age_filter_start</th>\n",
       "      <th>age_filter_end</th>\n",
       "      <th>views_count</th>\n",
       "      <th>was_premium</th>\n",
       "      <th>is_premium</th>\n",
       "      <th>total_revenue</th>\n",
       "    </tr>\n",
       "  </thead>\n",
       "  <tbody>\n",
       "    <tr>\n",
       "      <th>0</th>\n",
       "      <td>892035504</td>\n",
       "      <td>37</td>\n",
       "      <td>137</td>\n",
       "      <td>NaN</td>\n",
       "      <td>Israel</td>\n",
       "      <td>1,2,3,4,5,6,7,8,9,11,13</td>\n",
       "      <td>1</td>\n",
       "      <td>30</td>\n",
       "      <td>40</td>\n",
       "      <td>51</td>\n",
       "      <td>NaN</td>\n",
       "      <td>NaN</td>\n",
       "      <td>0</td>\n",
       "    </tr>\n",
       "    <tr>\n",
       "      <th>1</th>\n",
       "      <td>891782112</td>\n",
       "      <td>57</td>\n",
       "      <td>0</td>\n",
       "      <td>NaN</td>\n",
       "      <td>Italy</td>\n",
       "      <td>1</td>\n",
       "      <td>1</td>\n",
       "      <td>54</td>\n",
       "      <td>60</td>\n",
       "      <td>0</td>\n",
       "      <td>NaN</td>\n",
       "      <td>NaN</td>\n",
       "      <td>0</td>\n",
       "    </tr>\n",
       "    <tr>\n",
       "      <th>2</th>\n",
       "      <td>891110337</td>\n",
       "      <td>30</td>\n",
       "      <td>769</td>\n",
       "      <td>NaN</td>\n",
       "      <td>France</td>\n",
       "      <td>1,2,3,4,5</td>\n",
       "      <td>1</td>\n",
       "      <td>27</td>\n",
       "      <td>33</td>\n",
       "      <td>13</td>\n",
       "      <td>NaN</td>\n",
       "      <td>NaN</td>\n",
       "      <td>0</td>\n",
       "    </tr>\n",
       "    <tr>\n",
       "      <th>3</th>\n",
       "      <td>891796320</td>\n",
       "      <td>48</td>\n",
       "      <td>750</td>\n",
       "      <td>NaN</td>\n",
       "      <td>France</td>\n",
       "      <td>1,4,6,8,10,11,12,14,15,16,18</td>\n",
       "      <td>1</td>\n",
       "      <td>45</td>\n",
       "      <td>51</td>\n",
       "      <td>12</td>\n",
       "      <td>NaN</td>\n",
       "      <td>NaN</td>\n",
       "      <td>0</td>\n",
       "    </tr>\n",
       "    <tr>\n",
       "      <th>4</th>\n",
       "      <td>891880212</td>\n",
       "      <td>54</td>\n",
       "      <td>638</td>\n",
       "      <td>NaN</td>\n",
       "      <td>United States of America</td>\n",
       "      <td>1</td>\n",
       "      <td>1</td>\n",
       "      <td>35</td>\n",
       "      <td>53</td>\n",
       "      <td>94</td>\n",
       "      <td>NaN</td>\n",
       "      <td>NaN</td>\n",
       "      <td>0</td>\n",
       "    </tr>\n",
       "  </tbody>\n",
       "</table>\n",
       "</div>"
      ],
      "text/plain": [
       "         uid  age  attraction_coeff  coins                   country  \\\n",
       "0  892035504   37               137    NaN                    Israel   \n",
       "1  891782112   57                 0    NaN                     Italy   \n",
       "2  891110337   30               769    NaN                    France   \n",
       "3  891796320   48               750    NaN                    France   \n",
       "4  891880212   54               638    NaN  United States of America   \n",
       "\n",
       "                     visit_days  gender  age_filter_start  age_filter_end  \\\n",
       "0       1,2,3,4,5,6,7,8,9,11,13       1                30              40   \n",
       "1                             1       1                54              60   \n",
       "2                     1,2,3,4,5       1                27              33   \n",
       "3  1,4,6,8,10,11,12,14,15,16,18       1                45              51   \n",
       "4                             1       1                35              53   \n",
       "\n",
       "   views_count  was_premium  is_premium  total_revenue  \n",
       "0           51          NaN         NaN              0  \n",
       "1            0          NaN         NaN              0  \n",
       "2           13          NaN         NaN              0  \n",
       "3           12          NaN         NaN              0  \n",
       "4           94          NaN         NaN              0  "
      ]
     },
     "execution_count": 12,
     "metadata": {},
     "output_type": "execute_result"
    }
   ],
   "source": [
    "users_control_2.head(5)"
   ]
  },
  {
   "cell_type": "code",
   "execution_count": 13,
   "metadata": {},
   "outputs": [
    {
     "name": "stdout",
     "output_type": "stream",
     "text": [
      "<class 'pandas.core.frame.DataFrame'>\n",
      "RangeIndex: 4264 entries, 0 to 4263\n",
      "Data columns (total 13 columns):\n",
      " #   Column            Non-Null Count  Dtype  \n",
      "---  ------            --------------  -----  \n",
      " 0   uid               4264 non-null   int64  \n",
      " 1   age               4264 non-null   int64  \n",
      " 2   attraction_coeff  4264 non-null   int64  \n",
      " 3   coins             61 non-null     float64\n",
      " 4   country           4264 non-null   object \n",
      " 5   visit_days        2900 non-null   object \n",
      " 6   gender            4264 non-null   int64  \n",
      " 7   age_filter_start  4264 non-null   int64  \n",
      " 8   age_filter_end    4264 non-null   int64  \n",
      " 9   views_count       4264 non-null   int64  \n",
      " 10  was_premium       411 non-null    float64\n",
      " 11  is_premium        191 non-null    float64\n",
      " 12  total_revenue     4264 non-null   int64  \n",
      "dtypes: float64(3), int64(8), object(2)\n",
      "memory usage: 433.2+ KB\n"
     ]
    }
   ],
   "source": [
    "users_control_2.info()"
   ]
  },
  {
   "cell_type": "code",
   "execution_count": 14,
   "metadata": {},
   "outputs": [],
   "source": [
    "users_control_2['coins']       = users_control_2['coins'].fillna(0)\n",
    "users_control_2['visit_days']  = users_control_2['visit_days'].fillna(0)\n",
    "users_control_2['was_premium'] = users_control_2['was_premium'].fillna(0)\n",
    "users_control_2['is_premium']  = users_control_2['is_premium'].fillna(0)"
   ]
  },
  {
   "cell_type": "code",
   "execution_count": 15,
   "metadata": {},
   "outputs": [
    {
     "data": {
      "text/plain": [
       "0"
      ]
     },
     "execution_count": 15,
     "metadata": {},
     "output_type": "execute_result"
    }
   ],
   "source": [
    "users_control_2.uid.duplicated().sum()"
   ]
  },
  {
   "cell_type": "markdown",
   "metadata": {},
   "source": [
    "-------------"
   ]
  },
  {
   "cell_type": "markdown",
   "metadata": {},
   "source": [
    "## Теперь посмотрим на данные о транзакциях в тестовой группе"
   ]
  },
  {
   "cell_type": "code",
   "execution_count": 16,
   "metadata": {},
   "outputs": [
    {
     "data": {
      "text/html": [
       "<div>\n",
       "<style scoped>\n",
       "    .dataframe tbody tr th:only-of-type {\n",
       "        vertical-align: middle;\n",
       "    }\n",
       "\n",
       "    .dataframe tbody tr th {\n",
       "        vertical-align: top;\n",
       "    }\n",
       "\n",
       "    .dataframe thead th {\n",
       "        text-align: right;\n",
       "    }\n",
       "</style>\n",
       "<table border=\"1\" class=\"dataframe\">\n",
       "  <thead>\n",
       "    <tr style=\"text-align: right;\">\n",
       "      <th></th>\n",
       "      <th>uid</th>\n",
       "      <th>country</th>\n",
       "      <th>joined_at</th>\n",
       "      <th>paid_at</th>\n",
       "      <th>revenue</th>\n",
       "      <th>payment_id</th>\n",
       "      <th>from_page</th>\n",
       "      <th>product_type</th>\n",
       "    </tr>\n",
       "  </thead>\n",
       "  <tbody>\n",
       "    <tr>\n",
       "      <th>0</th>\n",
       "      <td>891345942</td>\n",
       "      <td>Italy</td>\n",
       "      <td>2017-05-11 13:00:00</td>\n",
       "      <td>2017-11-13 15:04:00</td>\n",
       "      <td>12909</td>\n",
       "      <td>147</td>\n",
       "      <td>trial_vip_popup</td>\n",
       "      <td>trial_premium</td>\n",
       "    </tr>\n",
       "    <tr>\n",
       "      <th>1</th>\n",
       "      <td>892054251</td>\n",
       "      <td>United States of America</td>\n",
       "      <td>2017-10-22 00:33:00</td>\n",
       "      <td>2017-10-30 01:37:00</td>\n",
       "      <td>13923</td>\n",
       "      <td>147</td>\n",
       "      <td>trial_vip_popup</td>\n",
       "      <td>trial_premium</td>\n",
       "    </tr>\n",
       "    <tr>\n",
       "      <th>2</th>\n",
       "      <td>892236423</td>\n",
       "      <td>United States of America</td>\n",
       "      <td>2017-10-18 01:09:00</td>\n",
       "      <td>2017-10-23 00:15:00</td>\n",
       "      <td>3783</td>\n",
       "      <td>67</td>\n",
       "      <td>menu</td>\n",
       "      <td>other_type</td>\n",
       "    </tr>\n",
       "    <tr>\n",
       "      <th>3</th>\n",
       "      <td>892236423</td>\n",
       "      <td>United States of America</td>\n",
       "      <td>2017-10-18 01:09:00</td>\n",
       "      <td>2017-10-27 22:38:00</td>\n",
       "      <td>3783</td>\n",
       "      <td>67</td>\n",
       "      <td>menu</td>\n",
       "      <td>other_type</td>\n",
       "    </tr>\n",
       "    <tr>\n",
       "      <th>4</th>\n",
       "      <td>892168170</td>\n",
       "      <td>United States of America</td>\n",
       "      <td>2017-10-19 17:10:00</td>\n",
       "      <td>2017-10-27 19:10:00</td>\n",
       "      <td>9087</td>\n",
       "      <td>147</td>\n",
       "      <td>trial_vip_popup</td>\n",
       "      <td>trial_premium</td>\n",
       "    </tr>\n",
       "  </tbody>\n",
       "</table>\n",
       "</div>"
      ],
      "text/plain": [
       "         uid                   country            joined_at  \\\n",
       "0  891345942                     Italy  2017-05-11 13:00:00   \n",
       "1  892054251  United States of America  2017-10-22 00:33:00   \n",
       "2  892236423  United States of America  2017-10-18 01:09:00   \n",
       "3  892236423  United States of America  2017-10-18 01:09:00   \n",
       "4  892168170  United States of America  2017-10-19 17:10:00   \n",
       "\n",
       "               paid_at  revenue  payment_id        from_page   product_type  \n",
       "0  2017-11-13 15:04:00    12909         147  trial_vip_popup  trial_premium  \n",
       "1  2017-10-30 01:37:00    13923         147  trial_vip_popup  trial_premium  \n",
       "2  2017-10-23 00:15:00     3783          67             menu     other_type  \n",
       "3  2017-10-27 22:38:00     3783          67             menu     other_type  \n",
       "4  2017-10-27 19:10:00     9087         147  trial_vip_popup  trial_premium  "
      ]
     },
     "execution_count": 16,
     "metadata": {},
     "output_type": "execute_result"
    }
   ],
   "source": [
    "transactions_test.head(5)"
   ]
  },
  {
   "cell_type": "code",
   "execution_count": 17,
   "metadata": {},
   "outputs": [
    {
     "name": "stdout",
     "output_type": "stream",
     "text": [
      "<class 'pandas.core.frame.DataFrame'>\n",
      "RangeIndex: 273 entries, 0 to 272\n",
      "Data columns (total 8 columns):\n",
      " #   Column        Non-Null Count  Dtype \n",
      "---  ------        --------------  ----- \n",
      " 0   uid           273 non-null    int64 \n",
      " 1   country       273 non-null    object\n",
      " 2   joined_at     273 non-null    object\n",
      " 3   paid_at       273 non-null    object\n",
      " 4   revenue       273 non-null    int64 \n",
      " 5   payment_id    273 non-null    int64 \n",
      " 6   from_page     273 non-null    object\n",
      " 7   product_type  273 non-null    object\n",
      "dtypes: int64(3), object(5)\n",
      "memory usage: 17.2+ KB\n"
     ]
    }
   ],
   "source": [
    "transactions_test.info()"
   ]
  },
  {
   "cell_type": "markdown",
   "metadata": {},
   "source": [
    "Пропусков нет, зато есть некорректный тип данных в таблице. \n",
    "\n",
    "Необходимо привести joined_at и paid_at к формату даты"
   ]
  },
  {
   "cell_type": "code",
   "execution_count": 18,
   "metadata": {},
   "outputs": [],
   "source": [
    "transactions_test[\"joined_at\"] = pd.to_datetime(transactions_test[\"joined_at\"])\n",
    "transactions_test[\"paid_at\"] = pd.to_datetime(transactions_test[\"paid_at\"])"
   ]
  },
  {
   "cell_type": "code",
   "execution_count": 19,
   "metadata": {},
   "outputs": [
    {
     "data": {
      "text/plain": [
       "array(['Italy', 'United States of America', 'Canada', 'Spain',\n",
       "       'United Arab Emirates', 'Argentina', 'Latvia', 'France',\n",
       "       'United Kingdom (Great Britain)', 'Israel', 'Switzerland',\n",
       "       'Germany', 'Belgium', 'Chile', 'Australia', 'Mexico', 'Turkey'],\n",
       "      dtype=object)"
      ]
     },
     "execution_count": 19,
     "metadata": {},
     "output_type": "execute_result"
    }
   ],
   "source": [
    "# Проверим написание стран, во избежание дублирования одной страны из-за разного написания \n",
    "\n",
    "transactions_test.country.unique()\n",
    "\n",
    "# все в норме"
   ]
  },
  {
   "cell_type": "code",
   "execution_count": 20,
   "metadata": {},
   "outputs": [
    {
     "data": {
      "text/plain": [
       "7"
      ]
     },
     "execution_count": 20,
     "metadata": {},
     "output_type": "execute_result"
    }
   ],
   "source": [
    "# Проверим дубли\n",
    "\n",
    "transactions_test.duplicated().sum()"
   ]
  },
  {
   "cell_type": "code",
   "execution_count": 21,
   "metadata": {},
   "outputs": [],
   "source": [
    "# Удалим дубли\n",
    "\n",
    "transactions_test = transactions_test.drop_duplicates()"
   ]
  },
  {
   "cell_type": "markdown",
   "metadata": {},
   "source": [
    "-----------\n",
    "## Теперь все тоже самое с транзакциями контрольных групп"
   ]
  },
  {
   "cell_type": "code",
   "execution_count": 22,
   "metadata": {},
   "outputs": [
    {
     "data": {
      "text/html": [
       "<div>\n",
       "<style scoped>\n",
       "    .dataframe tbody tr th:only-of-type {\n",
       "        vertical-align: middle;\n",
       "    }\n",
       "\n",
       "    .dataframe tbody tr th {\n",
       "        vertical-align: top;\n",
       "    }\n",
       "\n",
       "    .dataframe thead th {\n",
       "        text-align: right;\n",
       "    }\n",
       "</style>\n",
       "<table border=\"1\" class=\"dataframe\">\n",
       "  <thead>\n",
       "    <tr style=\"text-align: right;\">\n",
       "      <th></th>\n",
       "      <th>uid</th>\n",
       "      <th>country</th>\n",
       "      <th>joined_at</th>\n",
       "      <th>paid_at</th>\n",
       "      <th>revenue</th>\n",
       "      <th>payment_id</th>\n",
       "      <th>from_page</th>\n",
       "      <th>product_type</th>\n",
       "    </tr>\n",
       "  </thead>\n",
       "  <tbody>\n",
       "    <tr>\n",
       "      <th>0</th>\n",
       "      <td>891319275.0</td>\n",
       "      <td>France</td>\n",
       "      <td>2017-05-11 19:57:00</td>\n",
       "      <td>2017-12-11 21:57:00</td>\n",
       "      <td>12727.0</td>\n",
       "      <td>147.0</td>\n",
       "      <td>trial_vip_popup</td>\n",
       "      <td>trial_premium</td>\n",
       "    </tr>\n",
       "    <tr>\n",
       "      <th>1</th>\n",
       "      <td>892421826.0</td>\n",
       "      <td>Israel</td>\n",
       "      <td>2017-10-14 12:46:00</td>\n",
       "      <td>2017-10-23 12:54:00</td>\n",
       "      <td>14586.0</td>\n",
       "      <td>147.0</td>\n",
       "      <td>trial_vip_popup</td>\n",
       "      <td>trial_premium</td>\n",
       "    </tr>\n",
       "    <tr>\n",
       "      <th>2</th>\n",
       "      <td>891822480.0</td>\n",
       "      <td>Italy</td>\n",
       "      <td>2017-10-26 22:27:00</td>\n",
       "      <td>2017-12-11 20:59:00</td>\n",
       "      <td>1911.0</td>\n",
       "      <td>19.0</td>\n",
       "      <td>none</td>\n",
       "      <td>coins</td>\n",
       "    </tr>\n",
       "    <tr>\n",
       "      <th>3</th>\n",
       "      <td>891367521.0</td>\n",
       "      <td>Italy</td>\n",
       "      <td>2017-05-11 02:37:00</td>\n",
       "      <td>2017-06-11 19:15:00</td>\n",
       "      <td>1456.0</td>\n",
       "      <td>127.0</td>\n",
       "      <td>sympathy</td>\n",
       "      <td>other_type</td>\n",
       "    </tr>\n",
       "    <tr>\n",
       "      <th>4</th>\n",
       "      <td>892207959.0</td>\n",
       "      <td>France</td>\n",
       "      <td>2017-10-18 18:30:00</td>\n",
       "      <td>2017-12-11 12:03:00</td>\n",
       "      <td>1261.0</td>\n",
       "      <td>19.0</td>\n",
       "      <td>empty_likes</td>\n",
       "      <td>coins</td>\n",
       "    </tr>\n",
       "  </tbody>\n",
       "</table>\n",
       "</div>"
      ],
      "text/plain": [
       "           uid country            joined_at              paid_at  revenue  \\\n",
       "0  891319275.0  France  2017-05-11 19:57:00  2017-12-11 21:57:00  12727.0   \n",
       "1  892421826.0  Israel  2017-10-14 12:46:00  2017-10-23 12:54:00  14586.0   \n",
       "2  891822480.0   Italy  2017-10-26 22:27:00  2017-12-11 20:59:00   1911.0   \n",
       "3  891367521.0   Italy  2017-05-11 02:37:00  2017-06-11 19:15:00   1456.0   \n",
       "4  892207959.0  France  2017-10-18 18:30:00  2017-12-11 12:03:00   1261.0   \n",
       "\n",
       "   payment_id        from_page   product_type  \n",
       "0       147.0  trial_vip_popup  trial_premium  \n",
       "1       147.0  trial_vip_popup  trial_premium  \n",
       "2        19.0             none          coins  \n",
       "3       127.0         sympathy     other_type  \n",
       "4        19.0      empty_likes          coins  "
      ]
     },
     "execution_count": 22,
     "metadata": {},
     "output_type": "execute_result"
    }
   ],
   "source": [
    "transactions_control_1.head(5)"
   ]
  },
  {
   "cell_type": "code",
   "execution_count": 23,
   "metadata": {},
   "outputs": [
    {
     "name": "stdout",
     "output_type": "stream",
     "text": [
      "<class 'pandas.core.frame.DataFrame'>\n",
      "RangeIndex: 1007 entries, 0 to 1006\n",
      "Data columns (total 8 columns):\n",
      " #   Column        Non-Null Count  Dtype  \n",
      "---  ------        --------------  -----  \n",
      " 0   uid           377 non-null    float64\n",
      " 1   country       377 non-null    object \n",
      " 2   joined_at     1007 non-null   object \n",
      " 3   paid_at       1007 non-null   object \n",
      " 4   revenue       377 non-null    float64\n",
      " 5   payment_id    377 non-null    float64\n",
      " 6   from_page     377 non-null    object \n",
      " 7   product_type  377 non-null    object \n",
      "dtypes: float64(3), object(5)\n",
      "memory usage: 63.1+ KB\n"
     ]
    }
   ],
   "source": [
    "transactions_control_1.info()"
   ]
  },
  {
   "cell_type": "markdown",
   "metadata": {},
   "source": [
    "Наблюдаются пропуски во всех столбцах, кроме дат\n",
    "\n",
    "  ++ у uid, payment_id и revenue вместо int64 стоит float64 - нужно исправить"
   ]
  },
  {
   "cell_type": "code",
   "execution_count": 24,
   "metadata": {},
   "outputs": [],
   "source": [
    "transactions_control_1[\"joined_at\"] = pd.to_datetime(transactions_control_1[\"joined_at\"])\n",
    "transactions_control_1[\"paid_at\"]   = pd.to_datetime(transactions_control_1[\"paid_at\"])\n",
    "\n",
    "# перевод в дату также убрал лишние строки в данных"
   ]
  },
  {
   "cell_type": "code",
   "execution_count": 25,
   "metadata": {},
   "outputs": [],
   "source": [
    "# Зададим uid нужный тип\n",
    "\n",
    "transactions_control_1[['uid', 'payment_id', 'revenue']] = transactions_control_1[['uid', 'payment_id', 'revenue']] \\\n",
    ".values.astype('int')\n",
    "\n",
    "# Из-за преобразования пустые значения превратились в числа, которые удалю через сброс дублей,\n",
    "# а последнее удалю точечно"
   ]
  },
  {
   "cell_type": "code",
   "execution_count": 26,
   "metadata": {},
   "outputs": [],
   "source": [
    "# Удалим дубли\n",
    "\n",
    "transactions_control_1 = transactions_control_1.drop_duplicates()"
   ]
  },
  {
   "cell_type": "code",
   "execution_count": 27,
   "metadata": {},
   "outputs": [
    {
     "data": {
      "text/html": [
       "<div>\n",
       "<style scoped>\n",
       "    .dataframe tbody tr th:only-of-type {\n",
       "        vertical-align: middle;\n",
       "    }\n",
       "\n",
       "    .dataframe tbody tr th {\n",
       "        vertical-align: top;\n",
       "    }\n",
       "\n",
       "    .dataframe thead th {\n",
       "        text-align: right;\n",
       "    }\n",
       "</style>\n",
       "<table border=\"1\" class=\"dataframe\">\n",
       "  <thead>\n",
       "    <tr style=\"text-align: right;\">\n",
       "      <th></th>\n",
       "      <th>uid</th>\n",
       "      <th>country</th>\n",
       "      <th>joined_at</th>\n",
       "      <th>paid_at</th>\n",
       "      <th>revenue</th>\n",
       "      <th>payment_id</th>\n",
       "      <th>from_page</th>\n",
       "      <th>product_type</th>\n",
       "    </tr>\n",
       "  </thead>\n",
       "  <tbody>\n",
       "    <tr>\n",
       "      <th>373</th>\n",
       "      <td>892052106</td>\n",
       "      <td>Spain</td>\n",
       "      <td>2017-10-22 01:38:00</td>\n",
       "      <td>2017-10-29 03:44:00</td>\n",
       "      <td>12883</td>\n",
       "      <td>147</td>\n",
       "      <td>trial_vip_popup</td>\n",
       "      <td>trial_premium</td>\n",
       "    </tr>\n",
       "    <tr>\n",
       "      <th>374</th>\n",
       "      <td>892145004</td>\n",
       "      <td>Chile</td>\n",
       "      <td>2017-10-20 04:25:00</td>\n",
       "      <td>2017-01-11 02:56:00</td>\n",
       "      <td>9919</td>\n",
       "      <td>147</td>\n",
       "      <td>trial_vip_popup</td>\n",
       "      <td>trial_premium</td>\n",
       "    </tr>\n",
       "    <tr>\n",
       "      <th>375</th>\n",
       "      <td>891458229</td>\n",
       "      <td>Spain</td>\n",
       "      <td>2017-03-11 12:12:00</td>\n",
       "      <td>2017-04-11 03:43:00</td>\n",
       "      <td>6305</td>\n",
       "      <td>19</td>\n",
       "      <td>menu</td>\n",
       "      <td>coins</td>\n",
       "    </tr>\n",
       "    <tr>\n",
       "      <th>376</th>\n",
       "      <td>891466989</td>\n",
       "      <td>United States of America</td>\n",
       "      <td>2017-03-11 07:08:00</td>\n",
       "      <td>2017-03-11 07:56:00</td>\n",
       "      <td>6292</td>\n",
       "      <td>147</td>\n",
       "      <td>autoreply_message</td>\n",
       "      <td>premium_no_trial</td>\n",
       "    </tr>\n",
       "    <tr>\n",
       "      <th>377</th>\n",
       "      <td>-9223372036854775808</td>\n",
       "      <td>NaN</td>\n",
       "      <td>NaT</td>\n",
       "      <td>NaT</td>\n",
       "      <td>-9223372036854775808</td>\n",
       "      <td>-9223372036854775808</td>\n",
       "      <td>NaN</td>\n",
       "      <td>NaN</td>\n",
       "    </tr>\n",
       "  </tbody>\n",
       "</table>\n",
       "</div>"
      ],
      "text/plain": [
       "                     uid                   country           joined_at  \\\n",
       "373            892052106                     Spain 2017-10-22 01:38:00   \n",
       "374            892145004                     Chile 2017-10-20 04:25:00   \n",
       "375            891458229                     Spain 2017-03-11 12:12:00   \n",
       "376            891466989  United States of America 2017-03-11 07:08:00   \n",
       "377 -9223372036854775808                       NaN                 NaT   \n",
       "\n",
       "                paid_at              revenue           payment_id  \\\n",
       "373 2017-10-29 03:44:00                12883                  147   \n",
       "374 2017-01-11 02:56:00                 9919                  147   \n",
       "375 2017-04-11 03:43:00                 6305                   19   \n",
       "376 2017-03-11 07:56:00                 6292                  147   \n",
       "377                 NaT -9223372036854775808 -9223372036854775808   \n",
       "\n",
       "             from_page      product_type  \n",
       "373    trial_vip_popup     trial_premium  \n",
       "374    trial_vip_popup     trial_premium  \n",
       "375               menu             coins  \n",
       "376  autoreply_message  premium_no_trial  \n",
       "377                NaN               NaN  "
      ]
     },
     "execution_count": 27,
     "metadata": {},
     "output_type": "execute_result"
    }
   ],
   "source": [
    "transactions_control_1.tail(5)"
   ]
  },
  {
   "cell_type": "code",
   "execution_count": 28,
   "metadata": {},
   "outputs": [],
   "source": [
    "# Удаляю последнюю лишнюю строчку, возникшую из-за преобразований\n",
    "\n",
    "transactions_control_1 = transactions_control_1.drop(377)"
   ]
  },
  {
   "cell_type": "code",
   "execution_count": 29,
   "metadata": {},
   "outputs": [
    {
     "data": {
      "text/plain": [
       "array(['France', 'Israel', 'Italy', 'United States of America',\n",
       "       'Australia', 'Chile', 'India', 'United Arab Emirates',\n",
       "       'United Kingdom (Great Britain)', 'Argentina', 'Switzerland',\n",
       "       'Canada', 'Turkey', 'Portugal', 'Germany', 'Russian Federation',\n",
       "       'Spain', 'Belgium'], dtype=object)"
      ]
     },
     "execution_count": 29,
     "metadata": {},
     "output_type": "execute_result"
    }
   ],
   "source": [
    "# Проверим написание стран, во избежание дублирования одной страны из-за разного написания \n",
    "\n",
    "transactions_control_1.country.unique()\n",
    "\n",
    "# все в норме"
   ]
  },
  {
   "cell_type": "markdown",
   "metadata": {},
   "source": [
    "---------"
   ]
  },
  {
   "cell_type": "code",
   "execution_count": 30,
   "metadata": {},
   "outputs": [
    {
     "data": {
      "text/html": [
       "<div>\n",
       "<style scoped>\n",
       "    .dataframe tbody tr th:only-of-type {\n",
       "        vertical-align: middle;\n",
       "    }\n",
       "\n",
       "    .dataframe tbody tr th {\n",
       "        vertical-align: top;\n",
       "    }\n",
       "\n",
       "    .dataframe thead th {\n",
       "        text-align: right;\n",
       "    }\n",
       "</style>\n",
       "<table border=\"1\" class=\"dataframe\">\n",
       "  <thead>\n",
       "    <tr style=\"text-align: right;\">\n",
       "      <th></th>\n",
       "      <th>uid</th>\n",
       "      <th>country</th>\n",
       "      <th>joined_at</th>\n",
       "      <th>paid_at</th>\n",
       "      <th>revenue</th>\n",
       "      <th>payment_id</th>\n",
       "      <th>from_page</th>\n",
       "      <th>product_type</th>\n",
       "    </tr>\n",
       "  </thead>\n",
       "  <tbody>\n",
       "    <tr>\n",
       "      <th>0</th>\n",
       "      <td>891266616</td>\n",
       "      <td>Argentina</td>\n",
       "      <td>2017-06-11 15:25:00</td>\n",
       "      <td>2017-10-11 17:35:00</td>\n",
       "      <td>6305</td>\n",
       "      <td>19</td>\n",
       "      <td>autorefill</td>\n",
       "      <td>coins</td>\n",
       "    </tr>\n",
       "    <tr>\n",
       "      <th>1</th>\n",
       "      <td>892186737</td>\n",
       "      <td>Chile</td>\n",
       "      <td>2017-10-19 06:03:00</td>\n",
       "      <td>2017-04-11 08:53:00</td>\n",
       "      <td>4732</td>\n",
       "      <td>147</td>\n",
       "      <td>promo_09</td>\n",
       "      <td>premium_no_trial</td>\n",
       "    </tr>\n",
       "    <tr>\n",
       "      <th>2</th>\n",
       "      <td>891959004</td>\n",
       "      <td>United States of America</td>\n",
       "      <td>2017-10-24 00:12:00</td>\n",
       "      <td>2017-10-31 02:12:00</td>\n",
       "      <td>10153</td>\n",
       "      <td>147</td>\n",
       "      <td>trial_vip_popup</td>\n",
       "      <td>trial_premium</td>\n",
       "    </tr>\n",
       "    <tr>\n",
       "      <th>3</th>\n",
       "      <td>892115478</td>\n",
       "      <td>Spain</td>\n",
       "      <td>2017-10-20 20:39:00</td>\n",
       "      <td>2017-10-26 06:26:00</td>\n",
       "      <td>2366</td>\n",
       "      <td>67</td>\n",
       "      <td>empty_likes</td>\n",
       "      <td>other_type</td>\n",
       "    </tr>\n",
       "    <tr>\n",
       "      <th>4</th>\n",
       "      <td>891592941</td>\n",
       "      <td>Switzerland</td>\n",
       "      <td>2017-10-31 12:40:00</td>\n",
       "      <td>2017-03-11 16:25:00</td>\n",
       "      <td>6292</td>\n",
       "      <td>147</td>\n",
       "      <td>promo_09</td>\n",
       "      <td>premium_no_trial</td>\n",
       "    </tr>\n",
       "  </tbody>\n",
       "</table>\n",
       "</div>"
      ],
      "text/plain": [
       "         uid                   country            joined_at  \\\n",
       "0  891266616                 Argentina  2017-06-11 15:25:00   \n",
       "1  892186737                     Chile  2017-10-19 06:03:00   \n",
       "2  891959004  United States of America  2017-10-24 00:12:00   \n",
       "3  892115478                     Spain  2017-10-20 20:39:00   \n",
       "4  891592941               Switzerland  2017-10-31 12:40:00   \n",
       "\n",
       "               paid_at  revenue  payment_id        from_page      product_type  \n",
       "0  2017-10-11 17:35:00     6305          19       autorefill             coins  \n",
       "1  2017-04-11 08:53:00     4732         147         promo_09  premium_no_trial  \n",
       "2  2017-10-31 02:12:00    10153         147  trial_vip_popup     trial_premium  \n",
       "3  2017-10-26 06:26:00     2366          67      empty_likes        other_type  \n",
       "4  2017-03-11 16:25:00     6292         147         promo_09  premium_no_trial  "
      ]
     },
     "execution_count": 30,
     "metadata": {},
     "output_type": "execute_result"
    }
   ],
   "source": [
    "transactions_control_2.head(5)"
   ]
  },
  {
   "cell_type": "code",
   "execution_count": 31,
   "metadata": {},
   "outputs": [
    {
     "name": "stdout",
     "output_type": "stream",
     "text": [
      "<class 'pandas.core.frame.DataFrame'>\n",
      "RangeIndex: 328 entries, 0 to 327\n",
      "Data columns (total 8 columns):\n",
      " #   Column        Non-Null Count  Dtype \n",
      "---  ------        --------------  ----- \n",
      " 0   uid           328 non-null    int64 \n",
      " 1   country       328 non-null    object\n",
      " 2   joined_at     328 non-null    object\n",
      " 3   paid_at       328 non-null    object\n",
      " 4   revenue       328 non-null    int64 \n",
      " 5   payment_id    328 non-null    int64 \n",
      " 6   from_page     328 non-null    object\n",
      " 7   product_type  328 non-null    object\n",
      "dtypes: int64(3), object(5)\n",
      "memory usage: 20.6+ KB\n"
     ]
    }
   ],
   "source": [
    "transactions_control_2.info()"
   ]
  },
  {
   "cell_type": "markdown",
   "metadata": {},
   "source": [
    "В целом, только к дате привести и почистить дубли"
   ]
  },
  {
   "cell_type": "code",
   "execution_count": 32,
   "metadata": {},
   "outputs": [],
   "source": [
    "# Переведем в дату\n",
    "\n",
    "transactions_control_2[\"joined_at\"] = pd.to_datetime(transactions_control_2[\"joined_at\"])\n",
    "transactions_control_2[\"paid_at\"]   = pd.to_datetime(transactions_control_2[\"paid_at\"])"
   ]
  },
  {
   "cell_type": "code",
   "execution_count": 33,
   "metadata": {},
   "outputs": [],
   "source": [
    "# Удалим дубли\n",
    "\n",
    "transactions_control_2 = transactions_control_2.drop_duplicates()"
   ]
  },
  {
   "cell_type": "code",
   "execution_count": 34,
   "metadata": {},
   "outputs": [
    {
     "data": {
      "text/html": [
       "<div>\n",
       "<style scoped>\n",
       "    .dataframe tbody tr th:only-of-type {\n",
       "        vertical-align: middle;\n",
       "    }\n",
       "\n",
       "    .dataframe tbody tr th {\n",
       "        vertical-align: top;\n",
       "    }\n",
       "\n",
       "    .dataframe thead th {\n",
       "        text-align: right;\n",
       "    }\n",
       "</style>\n",
       "<table border=\"1\" class=\"dataframe\">\n",
       "  <thead>\n",
       "    <tr style=\"text-align: right;\">\n",
       "      <th></th>\n",
       "      <th>uid</th>\n",
       "      <th>country</th>\n",
       "      <th>joined_at</th>\n",
       "      <th>paid_at</th>\n",
       "      <th>revenue</th>\n",
       "      <th>payment_id</th>\n",
       "      <th>from_page</th>\n",
       "      <th>product_type</th>\n",
       "    </tr>\n",
       "  </thead>\n",
       "  <tbody>\n",
       "    <tr>\n",
       "      <th>0</th>\n",
       "      <td>891266616</td>\n",
       "      <td>Argentina</td>\n",
       "      <td>2017-06-11 15:25:00</td>\n",
       "      <td>2017-10-11 17:35:00</td>\n",
       "      <td>6305</td>\n",
       "      <td>19</td>\n",
       "      <td>autorefill</td>\n",
       "      <td>coins</td>\n",
       "    </tr>\n",
       "    <tr>\n",
       "      <th>1</th>\n",
       "      <td>892186737</td>\n",
       "      <td>Chile</td>\n",
       "      <td>2017-10-19 06:03:00</td>\n",
       "      <td>2017-04-11 08:53:00</td>\n",
       "      <td>4732</td>\n",
       "      <td>147</td>\n",
       "      <td>promo_09</td>\n",
       "      <td>premium_no_trial</td>\n",
       "    </tr>\n",
       "    <tr>\n",
       "      <th>2</th>\n",
       "      <td>891959004</td>\n",
       "      <td>United States of America</td>\n",
       "      <td>2017-10-24 00:12:00</td>\n",
       "      <td>2017-10-31 02:12:00</td>\n",
       "      <td>10153</td>\n",
       "      <td>147</td>\n",
       "      <td>trial_vip_popup</td>\n",
       "      <td>trial_premium</td>\n",
       "    </tr>\n",
       "    <tr>\n",
       "      <th>3</th>\n",
       "      <td>892115478</td>\n",
       "      <td>Spain</td>\n",
       "      <td>2017-10-20 20:39:00</td>\n",
       "      <td>2017-10-26 06:26:00</td>\n",
       "      <td>2366</td>\n",
       "      <td>67</td>\n",
       "      <td>empty_likes</td>\n",
       "      <td>other_type</td>\n",
       "    </tr>\n",
       "    <tr>\n",
       "      <th>4</th>\n",
       "      <td>891592941</td>\n",
       "      <td>Switzerland</td>\n",
       "      <td>2017-10-31 12:40:00</td>\n",
       "      <td>2017-03-11 16:25:00</td>\n",
       "      <td>6292</td>\n",
       "      <td>147</td>\n",
       "      <td>promo_09</td>\n",
       "      <td>premium_no_trial</td>\n",
       "    </tr>\n",
       "    <tr>\n",
       "      <th>...</th>\n",
       "      <td>...</td>\n",
       "      <td>...</td>\n",
       "      <td>...</td>\n",
       "      <td>...</td>\n",
       "      <td>...</td>\n",
       "      <td>...</td>\n",
       "      <td>...</td>\n",
       "      <td>...</td>\n",
       "    </tr>\n",
       "    <tr>\n",
       "      <th>323</th>\n",
       "      <td>891985866</td>\n",
       "      <td>Belgium</td>\n",
       "      <td>2017-10-23 13:19:00</td>\n",
       "      <td>2017-10-30 15:35:00</td>\n",
       "      <td>16640</td>\n",
       "      <td>147</td>\n",
       "      <td>trial_vip_popup</td>\n",
       "      <td>trial_premium</td>\n",
       "    </tr>\n",
       "    <tr>\n",
       "      <th>324</th>\n",
       "      <td>891491145</td>\n",
       "      <td>United States of America</td>\n",
       "      <td>2017-02-11 18:13:00</td>\n",
       "      <td>2017-09-11 20:32:00</td>\n",
       "      <td>12727</td>\n",
       "      <td>147</td>\n",
       "      <td>send_message</td>\n",
       "      <td>trial_premium</td>\n",
       "    </tr>\n",
       "    <tr>\n",
       "      <th>325</th>\n",
       "      <td>892053750</td>\n",
       "      <td>United States of America</td>\n",
       "      <td>2017-10-22 00:46:00</td>\n",
       "      <td>2017-10-28 08:17:00</td>\n",
       "      <td>1261</td>\n",
       "      <td>19</td>\n",
       "      <td>autorefill</td>\n",
       "      <td>coins</td>\n",
       "    </tr>\n",
       "    <tr>\n",
       "      <th>326</th>\n",
       "      <td>891668253</td>\n",
       "      <td>Chile</td>\n",
       "      <td>2017-10-29 23:08:00</td>\n",
       "      <td>2017-11-15 00:57:00</td>\n",
       "      <td>9997</td>\n",
       "      <td>147</td>\n",
       "      <td>trial_vip_popup</td>\n",
       "      <td>trial_premium</td>\n",
       "    </tr>\n",
       "    <tr>\n",
       "      <th>327</th>\n",
       "      <td>891459291</td>\n",
       "      <td>Spain</td>\n",
       "      <td>2017-03-11 11:43:00</td>\n",
       "      <td>2017-03-11 11:57:00</td>\n",
       "      <td>6292</td>\n",
       "      <td>147</td>\n",
       "      <td>autoreply_message</td>\n",
       "      <td>premium_no_trial</td>\n",
       "    </tr>\n",
       "  </tbody>\n",
       "</table>\n",
       "<p>323 rows × 8 columns</p>\n",
       "</div>"
      ],
      "text/plain": [
       "           uid                   country           joined_at  \\\n",
       "0    891266616                 Argentina 2017-06-11 15:25:00   \n",
       "1    892186737                     Chile 2017-10-19 06:03:00   \n",
       "2    891959004  United States of America 2017-10-24 00:12:00   \n",
       "3    892115478                     Spain 2017-10-20 20:39:00   \n",
       "4    891592941               Switzerland 2017-10-31 12:40:00   \n",
       "..         ...                       ...                 ...   \n",
       "323  891985866                   Belgium 2017-10-23 13:19:00   \n",
       "324  891491145  United States of America 2017-02-11 18:13:00   \n",
       "325  892053750  United States of America 2017-10-22 00:46:00   \n",
       "326  891668253                     Chile 2017-10-29 23:08:00   \n",
       "327  891459291                     Spain 2017-03-11 11:43:00   \n",
       "\n",
       "                paid_at  revenue  payment_id          from_page  \\\n",
       "0   2017-10-11 17:35:00     6305          19         autorefill   \n",
       "1   2017-04-11 08:53:00     4732         147           promo_09   \n",
       "2   2017-10-31 02:12:00    10153         147    trial_vip_popup   \n",
       "3   2017-10-26 06:26:00     2366          67        empty_likes   \n",
       "4   2017-03-11 16:25:00     6292         147           promo_09   \n",
       "..                  ...      ...         ...                ...   \n",
       "323 2017-10-30 15:35:00    16640         147    trial_vip_popup   \n",
       "324 2017-09-11 20:32:00    12727         147       send_message   \n",
       "325 2017-10-28 08:17:00     1261          19         autorefill   \n",
       "326 2017-11-15 00:57:00     9997         147    trial_vip_popup   \n",
       "327 2017-03-11 11:57:00     6292         147  autoreply_message   \n",
       "\n",
       "         product_type  \n",
       "0               coins  \n",
       "1    premium_no_trial  \n",
       "2       trial_premium  \n",
       "3          other_type  \n",
       "4    premium_no_trial  \n",
       "..                ...  \n",
       "323     trial_premium  \n",
       "324     trial_premium  \n",
       "325             coins  \n",
       "326     trial_premium  \n",
       "327  premium_no_trial  \n",
       "\n",
       "[323 rows x 8 columns]"
      ]
     },
     "execution_count": 34,
     "metadata": {},
     "output_type": "execute_result"
    }
   ],
   "source": [
    "transactions_control_2"
   ]
  },
  {
   "cell_type": "code",
   "execution_count": 35,
   "metadata": {},
   "outputs": [
    {
     "data": {
      "text/plain": [
       "array(['Argentina', 'Chile', 'United States of America', 'Spain',\n",
       "       'Switzerland', 'France', 'Italy', 'Portugal',\n",
       "       'United Kingdom (Great Britain)', 'Australia', 'Belgium', 'Israel',\n",
       "       'United Arab Emirates', 'Germany', 'Lithuania', 'Ukraine',\n",
       "       'Canada', 'Turkey', 'Austria'], dtype=object)"
      ]
     },
     "execution_count": 35,
     "metadata": {},
     "output_type": "execute_result"
    }
   ],
   "source": [
    "# Проверим написание стран, во избежание дублирования одной страны из-за разного написания \n",
    "\n",
    "transactions_control_2.country.unique()\n",
    "\n",
    "# все в норме"
   ]
  },
  {
   "cell_type": "markdown",
   "metadata": {},
   "source": [
    "------------"
   ]
  },
  {
   "cell_type": "code",
   "execution_count": 36,
   "metadata": {},
   "outputs": [
    {
     "name": "stdout",
     "output_type": "stream",
     "text": [
      "set() set() set() set() set() set()\n"
     ]
    }
   ],
   "source": [
    "# Ну и проверим все таблицы c пользователями и транзакциями между собой\n",
    "# на пересечение uid пользователей, чтобы понимать,\n",
    "# что один и тот же пользователь у нас не попал в тестовую и контрольную группы\n",
    "\n",
    "print(set(transactions_control_2.uid) & set(transactions_control_1.uid),\n",
    "      set(transactions_test.uid)      & set(transactions_control_1.uid),\n",
    "      set(transactions_test.uid)      & set(transactions_control_2.uid),\n",
    "      set(users_control_2.uid)        & set(users_control_1.uid),\n",
    "      set(users_test.uid)             & set(users_control_1.uid),\n",
    "      set(users_test.uid)             & set(users_control_2.uid))"
   ]
  },
  {
   "cell_type": "markdown",
   "metadata": {},
   "source": [
    "---------------"
   ]
  },
  {
   "cell_type": "markdown",
   "metadata": {},
   "source": [
    "Когда мы подробнее смотрим на данные о пользователях и их транзакциях, можно заметить что в каждом из этих дф есть данные о выручке (в users -> total_revenue, а в transactions -> revenue)\n",
    "\n",
    "Есть предположение о том, что в дф о пользователях вынесен общий доход с пользователя за рассматриваемый период, а в данные о транзакциях вынесена информация о каждой покупке совершенной пользователем и соответствующий доход от нее.\n",
    "\n",
    "Проверим данные по пользователям на соответствие. Возьмем из дф о пользователях только тех, кто потратил больше нуля в сервисе, а в дф-е с транзакциям сгруппируемся по пользователю и посчитаем сумму всей выручки с него."
   ]
  },
  {
   "cell_type": "code",
   "execution_count": 37,
   "metadata": {},
   "outputs": [
    {
     "data": {
      "text/html": [
       "<div>\n",
       "<style scoped>\n",
       "    .dataframe tbody tr th:only-of-type {\n",
       "        vertical-align: middle;\n",
       "    }\n",
       "\n",
       "    .dataframe tbody tr th {\n",
       "        vertical-align: top;\n",
       "    }\n",
       "\n",
       "    .dataframe thead th {\n",
       "        text-align: right;\n",
       "    }\n",
       "</style>\n",
       "<table border=\"1\" class=\"dataframe\">\n",
       "  <thead>\n",
       "    <tr style=\"text-align: right;\">\n",
       "      <th></th>\n",
       "      <th>uid</th>\n",
       "      <th>total_revenue</th>\n",
       "    </tr>\n",
       "  </thead>\n",
       "  <tbody>\n",
       "    <tr>\n",
       "      <th>3971</th>\n",
       "      <td>891071157</td>\n",
       "      <td>9100</td>\n",
       "    </tr>\n",
       "    <tr>\n",
       "      <th>20</th>\n",
       "      <td>891152790</td>\n",
       "      <td>12597</td>\n",
       "    </tr>\n",
       "    <tr>\n",
       "      <th>3967</th>\n",
       "      <td>891174411</td>\n",
       "      <td>28080</td>\n",
       "    </tr>\n",
       "    <tr>\n",
       "      <th>3997</th>\n",
       "      <td>891175326</td>\n",
       "      <td>897</td>\n",
       "    </tr>\n",
       "    <tr>\n",
       "      <th>3629</th>\n",
       "      <td>891178380</td>\n",
       "      <td>129870</td>\n",
       "    </tr>\n",
       "  </tbody>\n",
       "</table>\n",
       "</div>"
      ],
      "text/plain": [
       "            uid  total_revenue\n",
       "3971  891071157           9100\n",
       "20    891152790          12597\n",
       "3967  891174411          28080\n",
       "3997  891175326            897\n",
       "3629  891178380         129870"
      ]
     },
     "metadata": {},
     "output_type": "display_data"
    },
    {
     "data": {
      "text/html": [
       "<div>\n",
       "<style scoped>\n",
       "    .dataframe tbody tr th:only-of-type {\n",
       "        vertical-align: middle;\n",
       "    }\n",
       "\n",
       "    .dataframe tbody tr th {\n",
       "        vertical-align: top;\n",
       "    }\n",
       "\n",
       "    .dataframe thead th {\n",
       "        text-align: right;\n",
       "    }\n",
       "</style>\n",
       "<table border=\"1\" class=\"dataframe\">\n",
       "  <thead>\n",
       "    <tr style=\"text-align: right;\">\n",
       "      <th></th>\n",
       "      <th>uid</th>\n",
       "      <th>revenue</th>\n",
       "    </tr>\n",
       "  </thead>\n",
       "  <tbody>\n",
       "    <tr>\n",
       "      <th>0</th>\n",
       "      <td>891071157</td>\n",
       "      <td>9100</td>\n",
       "    </tr>\n",
       "    <tr>\n",
       "      <th>1</th>\n",
       "      <td>891152790</td>\n",
       "      <td>12597</td>\n",
       "    </tr>\n",
       "    <tr>\n",
       "      <th>2</th>\n",
       "      <td>891174411</td>\n",
       "      <td>28080</td>\n",
       "    </tr>\n",
       "    <tr>\n",
       "      <th>3</th>\n",
       "      <td>891175326</td>\n",
       "      <td>897</td>\n",
       "    </tr>\n",
       "    <tr>\n",
       "      <th>4</th>\n",
       "      <td>891178380</td>\n",
       "      <td>129870</td>\n",
       "    </tr>\n",
       "  </tbody>\n",
       "</table>\n",
       "</div>"
      ],
      "text/plain": [
       "         uid  revenue\n",
       "0  891071157     9100\n",
       "1  891152790    12597\n",
       "2  891174411    28080\n",
       "3  891175326      897\n",
       "4  891178380   129870"
      ]
     },
     "metadata": {},
     "output_type": "display_data"
    }
   ],
   "source": [
    "display(users_test.query(\"total_revenue > 0\").sort_values('uid')[['uid','total_revenue']].head(5), \n",
    "        transactions_test.groupby('uid', as_index=False).agg({'revenue':'sum'}).sort_values('uid').head(5))"
   ]
  },
  {
   "cell_type": "markdown",
   "metadata": {},
   "source": [
    "На первый взгляд все сходится, но взглянем на данные чуть подробнее и попробуем вычленить пользователей у которых может не сходиться сумма всех \"revenue\" и строчка \"total_revenue\""
   ]
  },
  {
   "cell_type": "code",
   "execution_count": 38,
   "metadata": {},
   "outputs": [],
   "source": [
    "table1 = users_test.query(\"total_revenue > 0\").sort_values('uid')[['uid','total_revenue']]"
   ]
  },
  {
   "cell_type": "code",
   "execution_count": 39,
   "metadata": {},
   "outputs": [],
   "source": [
    "table2 = transactions_test.groupby('uid', as_index=False).agg({'revenue':'sum'}).sort_values('uid')"
   ]
  },
  {
   "cell_type": "code",
   "execution_count": 40,
   "metadata": {},
   "outputs": [],
   "source": [
    "table3 = table1.merge(table2, on='uid')"
   ]
  },
  {
   "cell_type": "code",
   "execution_count": 41,
   "metadata": {},
   "outputs": [
    {
     "data": {
      "text/html": [
       "<div>\n",
       "<style scoped>\n",
       "    .dataframe tbody tr th:only-of-type {\n",
       "        vertical-align: middle;\n",
       "    }\n",
       "\n",
       "    .dataframe tbody tr th {\n",
       "        vertical-align: top;\n",
       "    }\n",
       "\n",
       "    .dataframe thead th {\n",
       "        text-align: right;\n",
       "    }\n",
       "</style>\n",
       "<table border=\"1\" class=\"dataframe\">\n",
       "  <thead>\n",
       "    <tr style=\"text-align: right;\">\n",
       "      <th></th>\n",
       "      <th>uid</th>\n",
       "      <th>total_revenue</th>\n",
       "      <th>revenue</th>\n",
       "    </tr>\n",
       "  </thead>\n",
       "  <tbody>\n",
       "    <tr>\n",
       "      <th>42</th>\n",
       "      <td>891508155</td>\n",
       "      <td>10101</td>\n",
       "      <td>9165</td>\n",
       "    </tr>\n",
       "    <tr>\n",
       "      <th>99</th>\n",
       "      <td>892050108</td>\n",
       "      <td>16380</td>\n",
       "      <td>15119</td>\n",
       "    </tr>\n",
       "    <tr>\n",
       "      <th>117</th>\n",
       "      <td>892202526</td>\n",
       "      <td>2691</td>\n",
       "      <td>1794</td>\n",
       "    </tr>\n",
       "    <tr>\n",
       "      <th>124</th>\n",
       "      <td>892236423</td>\n",
       "      <td>95823</td>\n",
       "      <td>86996</td>\n",
       "    </tr>\n",
       "    <tr>\n",
       "      <th>129</th>\n",
       "      <td>892275462</td>\n",
       "      <td>14885</td>\n",
       "      <td>58968</td>\n",
       "    </tr>\n",
       "    <tr>\n",
       "      <th>131</th>\n",
       "      <td>892339626</td>\n",
       "      <td>17758</td>\n",
       "      <td>17004</td>\n",
       "    </tr>\n",
       "  </tbody>\n",
       "</table>\n",
       "</div>"
      ],
      "text/plain": [
       "           uid  total_revenue  revenue\n",
       "42   891508155          10101     9165\n",
       "99   892050108          16380    15119\n",
       "117  892202526           2691     1794\n",
       "124  892236423          95823    86996\n",
       "129  892275462          14885    58968\n",
       "131  892339626          17758    17004"
      ]
     },
     "execution_count": 41,
     "metadata": {},
     "output_type": "execute_result"
    }
   ],
   "source": [
    "table3.query('total_revenue != revenue')"
   ]
  },
  {
   "cell_type": "markdown",
   "metadata": {},
   "source": [
    "Как видим, предположение было не верным.\n",
    "\n",
    "У части пользователей суммы не соотносятся. Есть примеры где total_revenue больше revenue, а есть один обратный случай. Какую-то конкретику из данных получить не удается. По описанию колонок тоже не видна существенная разница рассчетов:\n",
    "\n",
    "- revenue – нормированная выручка\n",
    "- total_revenue – нормированная выручка \n",
    "\n",
    "Дословно: revenue - выручка от каждой транзакции, а total_revenue - сумма всей выручки от пользователя (которая также должна включать данные из колонки revenue)\n",
    "\n",
    "Поэтому причину различий можно только предположить. Возможно это связано с тем, что в total_revenue может попадать доход платформы от перехода пользователя по рекламным баннерам. Также встречаются случаи, когда в приложении за просмотр рекламы можно получить внутреннюю валюту (в нашем случае это могут быть монеты, которые пользователи также покупают), либо дополнительные охваты профиля и тд. И понятно что такой доход от пользователя не попадет в дф с транзакциями. Ситуацию когда revenue больше total_revenue можно списать на то, что данные из транзакций не успели попасть в расчет total_revenue, и поэтому наблюдается расхождение. Ну либо произошел сбой при рассчете.\n",
    "\n",
    "Также при дальнейшем анализе и фильтрации данных по плат. системам, странам и т.д., разница между  total_revenue и revenue будет увеличиваться, и количество пользователей тоже.\n",
    "\n",
    "Поэтому при рассчете метрик и в А/А//А/В тестированиях в основном будут учитываться только транзакции из колонки revenue, что поможет более точечному анализу проведенных транзакций."
   ]
  },
  {
   "cell_type": "markdown",
   "metadata": {},
   "source": [
    "--------------------"
   ]
  },
  {
   "cell_type": "code",
   "execution_count": 42,
   "metadata": {},
   "outputs": [
    {
     "data": {
      "text/plain": [
       "array(['trial_premium', 'other_type', 'premium_no_trial', 'coins'],\n",
       "      dtype=object)"
      ]
     },
     "execution_count": 42,
     "metadata": {},
     "output_type": "execute_result"
    }
   ],
   "source": [
    "# Посмотрим что покупают пользователи всех групп\n",
    "\n",
    "pd.concat([transactions_test, transactions_control_1, transactions_control_2]).product_type.unique()"
   ]
  },
  {
   "cell_type": "markdown",
   "metadata": {},
   "source": [
    "----------\n",
    "\n",
    "# Отберем необходимых пользователей для анализа"
   ]
  },
  {
   "cell_type": "markdown",
   "metadata": {},
   "source": [
    "По условию задачи эксперимент проводится на новых пользователях. Так как нет информации о том, является ли пользователь новым или старым, то допустим, что все пользователи в группах новые. \n",
    "\n",
    "Тогда проверим, чтобы даты регистрации (рамки эксперимента) совпадали у всех трех групп:"
   ]
  },
  {
   "cell_type": "code",
   "execution_count": 43,
   "metadata": {},
   "outputs": [
    {
     "name": "stdout",
     "output_type": "stream",
     "text": [
      "Первые регистрации:\n",
      "Тест       2017-01-11 03:07:00\n",
      "Контроль 1 2015-01-19 11:49:00\n",
      "Контроль 2 2017-01-11 08:36:00\n",
      "------------------------------\n",
      "Последние регистрации:\n",
      "Тест       2017-10-31 23:40:00\n",
      "Контроль 1 2017-10-31 22:17:00\n",
      "Контроль 2 2017-10-31 17:43:00\n"
     ]
    }
   ],
   "source": [
    "print('Первые регистрации:')\n",
    "print('Тест      ', transactions_test.joined_at.min())\n",
    "print('Контроль 1', transactions_control_1.joined_at.min())\n",
    "print('Контроль 2', transactions_control_2.joined_at.min())\n",
    "print('------------------------------')\n",
    "print('Последние регистрации:')\n",
    "print('Тест      ', transactions_test.joined_at.max())\n",
    "print('Контроль 1', transactions_control_1.joined_at.max())\n",
    "print('Контроль 2', transactions_control_2.joined_at.max())"
   ]
  },
  {
   "cell_type": "markdown",
   "metadata": {},
   "source": [
    "Здесь мы видим, что первые регистрации у контрольной группы 1 на два года раньше, чем у остальных, поэтому для корректности обработки данных, я возьму только те регистрации, которые были проведены начиная с 11.01.2017.\n",
    "\n",
    "Также нужно не забыть убрать этих пользователей еще и из дф с информацией о пользователях"
   ]
  },
  {
   "cell_type": "code",
   "execution_count": 44,
   "metadata": {},
   "outputs": [
    {
     "data": {
      "text/html": [
       "<div>\n",
       "<style scoped>\n",
       "    .dataframe tbody tr th:only-of-type {\n",
       "        vertical-align: middle;\n",
       "    }\n",
       "\n",
       "    .dataframe tbody tr th {\n",
       "        vertical-align: top;\n",
       "    }\n",
       "\n",
       "    .dataframe thead th {\n",
       "        text-align: right;\n",
       "    }\n",
       "</style>\n",
       "<table border=\"1\" class=\"dataframe\">\n",
       "  <thead>\n",
       "    <tr style=\"text-align: right;\">\n",
       "      <th></th>\n",
       "      <th>uid</th>\n",
       "      <th>country</th>\n",
       "      <th>joined_at</th>\n",
       "      <th>paid_at</th>\n",
       "      <th>revenue</th>\n",
       "      <th>payment_id</th>\n",
       "      <th>from_page</th>\n",
       "      <th>product_type</th>\n",
       "    </tr>\n",
       "  </thead>\n",
       "  <tbody>\n",
       "    <tr>\n",
       "      <th>65</th>\n",
       "      <td>960936960</td>\n",
       "      <td>Russian Federation</td>\n",
       "      <td>2015-01-19 11:49:00</td>\n",
       "      <td>2016-12-14 17:30:00</td>\n",
       "      <td>26</td>\n",
       "      <td>0</td>\n",
       "      <td>refund_VP</td>\n",
       "      <td>other_type</td>\n",
       "    </tr>\n",
       "    <tr>\n",
       "      <th>101</th>\n",
       "      <td>960936960</td>\n",
       "      <td>Russian Federation</td>\n",
       "      <td>2015-01-19 11:49:00</td>\n",
       "      <td>2016-12-14 17:35:00</td>\n",
       "      <td>637</td>\n",
       "      <td>0</td>\n",
       "      <td>refung_AP</td>\n",
       "      <td>other_type</td>\n",
       "    </tr>\n",
       "    <tr>\n",
       "      <th>224</th>\n",
       "      <td>960936960</td>\n",
       "      <td>Russian Federation</td>\n",
       "      <td>2015-01-19 11:49:00</td>\n",
       "      <td>2016-12-14 16:16:00</td>\n",
       "      <td>143</td>\n",
       "      <td>0</td>\n",
       "      <td>refund_WP</td>\n",
       "      <td>other_type</td>\n",
       "    </tr>\n",
       "  </tbody>\n",
       "</table>\n",
       "</div>"
      ],
      "text/plain": [
       "           uid             country           joined_at             paid_at  \\\n",
       "65   960936960  Russian Federation 2015-01-19 11:49:00 2016-12-14 17:30:00   \n",
       "101  960936960  Russian Federation 2015-01-19 11:49:00 2016-12-14 17:35:00   \n",
       "224  960936960  Russian Federation 2015-01-19 11:49:00 2016-12-14 16:16:00   \n",
       "\n",
       "     revenue  payment_id  from_page product_type  \n",
       "65        26           0  refund_VP   other_type  \n",
       "101      637           0  refung_AP   other_type  \n",
       "224      143           0  refund_WP   other_type  "
      ]
     },
     "execution_count": 44,
     "metadata": {},
     "output_type": "execute_result"
    }
   ],
   "source": [
    "transactions_control_1.query('joined_at < \"2017-01-11\"')"
   ]
  },
  {
   "cell_type": "markdown",
   "metadata": {},
   "source": [
    "Так как это всего лишь один пользователь, то можно просто отсечь его при фильтрации:"
   ]
  },
  {
   "cell_type": "code",
   "execution_count": 45,
   "metadata": {},
   "outputs": [],
   "source": [
    "transactions_control_1 = transactions_control_1.query('uid != \"960936960\"')\n",
    "users_control_1        = users_control_1.query('uid != \"960936960\"')"
   ]
  },
  {
   "cell_type": "markdown",
   "metadata": {},
   "source": [
    "Теперь определимся со странами, в которых проводился эксперимент, так как по условию эксперимент затронул пользователей из нескольких конкретных стран\n",
    "\n",
    "Создадим список стран, общий для всех групп.\n",
    "Искать страны будем через дф с транзакциями, так как в дальнейшем нас будут интересовать только платящие пользователи"
   ]
  },
  {
   "cell_type": "code",
   "execution_count": 46,
   "metadata": {},
   "outputs": [],
   "source": [
    "country_list = transactions_test \\\n",
    "                       .query('country in @transactions_control_1.country.unique() and country in @transactions_control_2.country.unique()') \\\n",
    "                       .country.unique()"
   ]
  },
  {
   "cell_type": "code",
   "execution_count": 47,
   "metadata": {},
   "outputs": [
    {
     "data": {
      "text/plain": [
       "array(['Italy', 'United States of America', 'Canada', 'Spain',\n",
       "       'United Arab Emirates', 'Argentina', 'France',\n",
       "       'United Kingdom (Great Britain)', 'Israel', 'Switzerland',\n",
       "       'Germany', 'Belgium', 'Chile', 'Australia', 'Turkey'], dtype=object)"
      ]
     },
     "execution_count": 47,
     "metadata": {},
     "output_type": "execute_result"
    }
   ],
   "source": [
    "country_list"
   ]
  },
  {
   "cell_type": "code",
   "execution_count": 48,
   "metadata": {},
   "outputs": [],
   "source": [
    "# Оставим данные только из нужных стран\n",
    "\n",
    "transactions_test      = transactions_test.query('country in @country_list')\n",
    "transactions_control_1 = transactions_control_1.query('country in @country_list')\n",
    "transactions_control_2 = transactions_control_2.query('country in @country_list')\n",
    "\n",
    "users_test             = users_test.query('country in @country_list')\n",
    "users_control_1        = users_control_1.query('country in @country_list')\n",
    "users_control_2        = users_control_2.query('country in @country_list')"
   ]
  },
  {
   "cell_type": "code",
   "execution_count": 49,
   "metadata": {},
   "outputs": [
    {
     "data": {
      "text/html": [
       "<div>\n",
       "<style scoped>\n",
       "    .dataframe tbody tr th:only-of-type {\n",
       "        vertical-align: middle;\n",
       "    }\n",
       "\n",
       "    .dataframe tbody tr th {\n",
       "        vertical-align: top;\n",
       "    }\n",
       "\n",
       "    .dataframe thead th {\n",
       "        text-align: right;\n",
       "    }\n",
       "</style>\n",
       "<table border=\"1\" class=\"dataframe\">\n",
       "  <thead>\n",
       "    <tr style=\"text-align: right;\">\n",
       "      <th></th>\n",
       "      <th>uid</th>\n",
       "      <th>country</th>\n",
       "      <th>joined_at</th>\n",
       "      <th>paid_at</th>\n",
       "      <th>revenue</th>\n",
       "      <th>payment_id</th>\n",
       "      <th>from_page</th>\n",
       "      <th>product_type</th>\n",
       "    </tr>\n",
       "  </thead>\n",
       "  <tbody>\n",
       "    <tr>\n",
       "      <th>121</th>\n",
       "      <td>891605694</td>\n",
       "      <td>Argentina</td>\n",
       "      <td>2017-10-31 05:09:00</td>\n",
       "      <td>2017-11-15 04:33:00</td>\n",
       "      <td>12597</td>\n",
       "      <td>147</td>\n",
       "      <td>popular_users_block</td>\n",
       "      <td>premium_no_trial</td>\n",
       "    </tr>\n",
       "    <tr>\n",
       "      <th>199</th>\n",
       "      <td>891346269</td>\n",
       "      <td>Argentina</td>\n",
       "      <td>2017-05-11 12:55:00</td>\n",
       "      <td>2017-05-11 15:26:00</td>\n",
       "      <td>12597</td>\n",
       "      <td>147</td>\n",
       "      <td>autoreply_message</td>\n",
       "      <td>premium_no_trial</td>\n",
       "    </tr>\n",
       "    <tr>\n",
       "      <th>267</th>\n",
       "      <td>891414915</td>\n",
       "      <td>Argentina</td>\n",
       "      <td>2017-04-11 09:06:00</td>\n",
       "      <td>2017-04-11 09:56:00</td>\n",
       "      <td>6292</td>\n",
       "      <td>147</td>\n",
       "      <td>autoreply_message</td>\n",
       "      <td>premium_no_trial</td>\n",
       "    </tr>\n",
       "    <tr>\n",
       "      <th>95</th>\n",
       "      <td>891969984</td>\n",
       "      <td>Argentina</td>\n",
       "      <td>2017-10-23 19:59:00</td>\n",
       "      <td>2017-10-23 20:11:00</td>\n",
       "      <td>5330</td>\n",
       "      <td>147</td>\n",
       "      <td>autoreply_message</td>\n",
       "      <td>premium_no_trial</td>\n",
       "    </tr>\n",
       "    <tr>\n",
       "      <th>215</th>\n",
       "      <td>892347657</td>\n",
       "      <td>Argentina</td>\n",
       "      <td>2017-10-15 20:50:00</td>\n",
       "      <td>2017-10-15 22:29:00</td>\n",
       "      <td>12597</td>\n",
       "      <td>147</td>\n",
       "      <td>dating</td>\n",
       "      <td>premium_no_trial</td>\n",
       "    </tr>\n",
       "    <tr>\n",
       "      <th>...</th>\n",
       "      <td>...</td>\n",
       "      <td>...</td>\n",
       "      <td>...</td>\n",
       "      <td>...</td>\n",
       "      <td>...</td>\n",
       "      <td>...</td>\n",
       "      <td>...</td>\n",
       "      <td>...</td>\n",
       "    </tr>\n",
       "    <tr>\n",
       "      <th>27</th>\n",
       "      <td>892370097</td>\n",
       "      <td>United States of America</td>\n",
       "      <td>2017-10-15 13:37:00</td>\n",
       "      <td>2017-10-16 15:55:00</td>\n",
       "      <td>11115</td>\n",
       "      <td>68</td>\n",
       "      <td>none</td>\n",
       "      <td>premium_no_trial</td>\n",
       "    </tr>\n",
       "    <tr>\n",
       "      <th>22</th>\n",
       "      <td>891071157</td>\n",
       "      <td>United States of America</td>\n",
       "      <td>2017-10-11 10:20:00</td>\n",
       "      <td>2017-10-11 16:37:00</td>\n",
       "      <td>9100</td>\n",
       "      <td>147</td>\n",
       "      <td>promo_09</td>\n",
       "      <td>premium_no_trial</td>\n",
       "    </tr>\n",
       "    <tr>\n",
       "      <th>6</th>\n",
       "      <td>891558921</td>\n",
       "      <td>United States of America</td>\n",
       "      <td>2017-01-11 03:07:00</td>\n",
       "      <td>2017-10-11 09:05:00</td>\n",
       "      <td>9100</td>\n",
       "      <td>147</td>\n",
       "      <td>left_sidebar_menu</td>\n",
       "      <td>premium_no_trial</td>\n",
       "    </tr>\n",
       "    <tr>\n",
       "      <th>197</th>\n",
       "      <td>891603810</td>\n",
       "      <td>United States of America</td>\n",
       "      <td>2017-10-31 06:36:00</td>\n",
       "      <td>2017-04-11 09:25:00</td>\n",
       "      <td>9100</td>\n",
       "      <td>147</td>\n",
       "      <td>promo_09</td>\n",
       "      <td>premium_no_trial</td>\n",
       "    </tr>\n",
       "    <tr>\n",
       "      <th>145</th>\n",
       "      <td>892186941</td>\n",
       "      <td>United States of America</td>\n",
       "      <td>2017-10-19 05:48:00</td>\n",
       "      <td>2017-10-19 06:34:00</td>\n",
       "      <td>12597</td>\n",
       "      <td>147</td>\n",
       "      <td>dating</td>\n",
       "      <td>premium_no_trial</td>\n",
       "    </tr>\n",
       "  </tbody>\n",
       "</table>\n",
       "<p>74 rows × 8 columns</p>\n",
       "</div>"
      ],
      "text/plain": [
       "           uid                   country           joined_at  \\\n",
       "121  891605694                 Argentina 2017-10-31 05:09:00   \n",
       "199  891346269                 Argentina 2017-05-11 12:55:00   \n",
       "267  891414915                 Argentina 2017-04-11 09:06:00   \n",
       "95   891969984                 Argentina 2017-10-23 19:59:00   \n",
       "215  892347657                 Argentina 2017-10-15 20:50:00   \n",
       "..         ...                       ...                 ...   \n",
       "27   892370097  United States of America 2017-10-15 13:37:00   \n",
       "22   891071157  United States of America 2017-10-11 10:20:00   \n",
       "6    891558921  United States of America 2017-01-11 03:07:00   \n",
       "197  891603810  United States of America 2017-10-31 06:36:00   \n",
       "145  892186941  United States of America 2017-10-19 05:48:00   \n",
       "\n",
       "                paid_at  revenue  payment_id            from_page  \\\n",
       "121 2017-11-15 04:33:00    12597         147  popular_users_block   \n",
       "199 2017-05-11 15:26:00    12597         147    autoreply_message   \n",
       "267 2017-04-11 09:56:00     6292         147    autoreply_message   \n",
       "95  2017-10-23 20:11:00     5330         147    autoreply_message   \n",
       "215 2017-10-15 22:29:00    12597         147               dating   \n",
       "..                  ...      ...         ...                  ...   \n",
       "27  2017-10-16 15:55:00    11115          68                 none   \n",
       "22  2017-10-11 16:37:00     9100         147             promo_09   \n",
       "6   2017-10-11 09:05:00     9100         147    left_sidebar_menu   \n",
       "197 2017-04-11 09:25:00     9100         147             promo_09   \n",
       "145 2017-10-19 06:34:00    12597         147               dating   \n",
       "\n",
       "         product_type  \n",
       "121  premium_no_trial  \n",
       "199  premium_no_trial  \n",
       "267  premium_no_trial  \n",
       "95   premium_no_trial  \n",
       "215  premium_no_trial  \n",
       "..                ...  \n",
       "27   premium_no_trial  \n",
       "22   premium_no_trial  \n",
       "6    premium_no_trial  \n",
       "197  premium_no_trial  \n",
       "145  premium_no_trial  \n",
       "\n",
       "[74 rows x 8 columns]"
      ]
     },
     "execution_count": 49,
     "metadata": {},
     "output_type": "execute_result"
    }
   ],
   "source": [
    "# Посмотрим на стоимость подписки в разрезе оставшихся стран\n",
    "\n",
    "transactions_test.query('product_type == \"premium_no_trial\"').sort_values('country')"
   ]
  },
  {
   "cell_type": "markdown",
   "metadata": {},
   "source": [
    "Так как в рамках одной страны, одной платежной системы, одной страницы, с которой был совершен переход на оплату - стоимость подписки различна у пользователей, то будем считать, что общие для всех трех групп страны, это как раз те страны, в которых проводился эксперимент. \n",
    "\n",
    "Поэтому: \n",
    "\n",
    "country_list - это список стран, где проводился эксперимент"
   ]
  },
  {
   "cell_type": "markdown",
   "metadata": {},
   "source": [
    "\n",
    "\n",
    "Теперь разберемся с платежными системами.\n",
    "\n",
    "Так как по условию задачи \"изменена стоимость премиум-подписки при покупке через две новые платежные системы\", то как и в случае со странами - найдем общие платежные системы для всех трех групп, где покупалась полная премиум подписка:"
   ]
  },
  {
   "cell_type": "code",
   "execution_count": 50,
   "metadata": {},
   "outputs": [
    {
     "name": "stdout",
     "output_type": "stream",
     "text": [
      "147    61\n",
      "68     12\n",
      "0       1\n",
      "Name: payment_id, dtype: int64\n",
      "147    85\n",
      "68     16\n",
      "0       2\n",
      "Name: payment_id, dtype: int64\n",
      "147    88\n",
      "68     11\n",
      "0       1\n",
      "Name: payment_id, dtype: int64\n"
     ]
    }
   ],
   "source": [
    "# Идентификатор платежа = платежная система\n",
    "\n",
    "print(transactions_test.query('product_type == \"premium_no_trial\"').payment_id.value_counts())\n",
    "print(transactions_control_1.query('product_type == \"premium_no_trial\"').payment_id.value_counts())\n",
    "print(transactions_control_2.query('product_type == \"premium_no_trial\"').payment_id.value_counts())"
   ]
  },
  {
   "cell_type": "markdown",
   "metadata": {},
   "source": [
    "Видно, что премиальныя подписка покупается только через три платежные системы.\n",
    "\n",
    "Однако \"0\" использовалась только 4 раза суммарно, поэтому исключим ее.\n",
    "\n",
    "В итоге получаем искомые две системы (68 и 147)\n",
    "\n",
    "Оставим в дф только транзакции через них:"
   ]
  },
  {
   "cell_type": "code",
   "execution_count": 51,
   "metadata": {},
   "outputs": [],
   "source": [
    "transactions_test      = transactions_test.query('payment_id == 68 or payment_id == 147')\n",
    "transactions_control_1 = transactions_control_1.query('payment_id == 68 or payment_id == 147')\n",
    "transactions_control_2 = transactions_control_2.query('payment_id == 68 or payment_id == 147')"
   ]
  },
  {
   "cell_type": "markdown",
   "metadata": {},
   "source": [
    "И оставим в дф для дальнейшего анализа, только те транзакции, что касаются покупки премиальной подписки. Триал не учитываем, так как по условию стоимость триала не менялась"
   ]
  },
  {
   "cell_type": "code",
   "execution_count": 52,
   "metadata": {},
   "outputs": [],
   "source": [
    "# Сохраним данные о пользователях до фильтрации по премиальной подписке\n",
    "\n",
    "tt_all  = transactions_test\n",
    "tc1_all = transactions_control_1\n",
    "tc2_all = transactions_control_2\n",
    "\n",
    "# Отфильтруемся\n",
    "\n",
    "transactions_test      = transactions_test.query('product_type == \"premium_no_trial\"')\n",
    "transactions_control_1 = transactions_control_1.query('product_type == \"premium_no_trial\"')\n",
    "transactions_control_2 = transactions_control_2.query('product_type == \"premium_no_trial\"')"
   ]
  },
  {
   "cell_type": "markdown",
   "metadata": {},
   "source": [
    "Не забудем про дф с пользователями. Оставим в нем только тех, кто остался в дф с транзакциями"
   ]
  },
  {
   "cell_type": "code",
   "execution_count": 53,
   "metadata": {},
   "outputs": [],
   "source": [
    "ut_all  = users_test.query('uid in @tt_all.uid.unique()')\n",
    "uc1_all = users_control_1.query('uid in @tc1_all.uid.unique()')\n",
    "uc2_all = users_control_2.query('uid in @tc2_all.uid.unique()')"
   ]
  },
  {
   "cell_type": "code",
   "execution_count": 54,
   "metadata": {},
   "outputs": [],
   "source": [
    "users_test      = users_test.query('uid in @transactions_test.uid.unique()')\n",
    "users_control_1 = users_control_1.query('uid in @transactions_control_1.uid.unique()')\n",
    "users_control_2 = users_control_2.query('uid in @transactions_control_2.uid.unique()')"
   ]
  },
  {
   "cell_type": "markdown",
   "metadata": {},
   "source": [
    "В итоге:\n",
    "\n",
    "- Были определены новые пользователи\n",
    "- Найдены страны, в которых проводился эксперимент\n",
    "- Выбраны подходящие платежные системы\n",
    "- Оставлены только покупки премиальной подписки"
   ]
  },
  {
   "cell_type": "markdown",
   "metadata": {},
   "source": [
    "---------------\n",
    "# Первичный анализ данных"
   ]
  },
  {
   "cell_type": "markdown",
   "metadata": {},
   "source": [
    "Теперь проверим данные на наличие выбросов в графах \"revenue\" и \"total_revenue\", так как для проверки успешности эксперимента будем в основном опираться на выручку с пользователя"
   ]
  },
  {
   "cell_type": "code",
   "execution_count": 65,
   "metadata": {},
   "outputs": [
    {
     "data": {
      "text/plain": [
       "<matplotlib.axes._subplots.AxesSubplot at 0x7fa859473b38>"
      ]
     },
     "execution_count": 65,
     "metadata": {},
     "output_type": "execute_result"
    },
    {
     "data": {
      "image/png": "[encoded data removed]",
      "text/plain": [
       "<Figure size 432x288 with 1 Axes>"
      ]
     },
     "metadata": {
      "needs_background": "light"
     },
     "output_type": "display_data"
    }
   ],
   "source": [
    "# Сперва добавим графу с номером группы к каждой таблице\n",
    "t_T  = transactions_test.assign(Group=\"T\", Class='Test')\n",
    "t_C1 = transactions_control_1.assign(Group=\"C1\", Class='Control')\n",
    "t_C2 = transactions_control_2.assign(Group=\"C2\", Class='Control')\n",
    "\n",
    "# Теперь соединим данные в один df для анализа\n",
    "Em_check1 = pd.concat([t_T, t_C1, t_C2])\n",
    "\n",
    "# Построим боксплот для наглядности\n",
    "sns.boxplot(x=\"Group\", y=\"revenue\", data=Em_check1)"
   ]
  },
  {
   "cell_type": "markdown",
   "metadata": {},
   "source": [
    "Видим, что подавляющее большинство пользователей из трех групп не превышают по выручке ~40 000 у.е.\n",
    "\n",
    "Во всех группах присутствуют высокие значения в графе \"revenue\"\n",
    "\n",
    "Посмотрим на эти транзакции"
   ]
  },
  {
   "cell_type": "code",
   "execution_count": 66,
   "metadata": {},
   "outputs": [
    {
     "data": {
      "text/html": [
       "<div>\n",
       "<style scoped>\n",
       "    .dataframe tbody tr th:only-of-type {\n",
       "        vertical-align: middle;\n",
       "    }\n",
       "\n",
       "    .dataframe tbody tr th {\n",
       "        vertical-align: top;\n",
       "    }\n",
       "\n",
       "    .dataframe thead th {\n",
       "        text-align: right;\n",
       "    }\n",
       "</style>\n",
       "<table border=\"1\" class=\"dataframe\">\n",
       "  <thead>\n",
       "    <tr style=\"text-align: right;\">\n",
       "      <th></th>\n",
       "      <th>uid</th>\n",
       "      <th>country</th>\n",
       "      <th>joined_at</th>\n",
       "      <th>paid_at</th>\n",
       "      <th>revenue</th>\n",
       "      <th>payment_id</th>\n",
       "      <th>from_page</th>\n",
       "      <th>product_type</th>\n",
       "      <th>Group</th>\n",
       "      <th>Class</th>\n",
       "    </tr>\n",
       "  </thead>\n",
       "  <tbody>\n",
       "    <tr>\n",
       "      <th>12</th>\n",
       "      <td>891178380</td>\n",
       "      <td>Spain</td>\n",
       "      <td>2017-08-11 03:54:00</td>\n",
       "      <td>2017-09-11 21:53:00</td>\n",
       "      <td>113477</td>\n",
       "      <td>147</td>\n",
       "      <td>promo_09</td>\n",
       "      <td>premium_no_trial</td>\n",
       "      <td>T</td>\n",
       "      <td>Test</td>\n",
       "    </tr>\n",
       "    <tr>\n",
       "      <th>196</th>\n",
       "      <td>892038759</td>\n",
       "      <td>United Arab Emirates</td>\n",
       "      <td>2017-10-22 11:12:00</td>\n",
       "      <td>2017-10-22 16:23:00</td>\n",
       "      <td>113477</td>\n",
       "      <td>147</td>\n",
       "      <td>autoreply_message</td>\n",
       "      <td>premium_no_trial</td>\n",
       "      <td>T</td>\n",
       "      <td>Test</td>\n",
       "    </tr>\n",
       "    <tr>\n",
       "      <th>30</th>\n",
       "      <td>892421277</td>\n",
       "      <td>United States of America</td>\n",
       "      <td>2017-10-14 13:05:00</td>\n",
       "      <td>2017-10-15 13:11:00</td>\n",
       "      <td>47723</td>\n",
       "      <td>147</td>\n",
       "      <td>promo_09</td>\n",
       "      <td>premium_no_trial</td>\n",
       "      <td>C1</td>\n",
       "      <td>Control</td>\n",
       "    </tr>\n",
       "    <tr>\n",
       "      <th>143</th>\n",
       "      <td>892333905</td>\n",
       "      <td>Italy</td>\n",
       "      <td>2017-10-16 01:38:00</td>\n",
       "      <td>2017-10-16 13:10:00</td>\n",
       "      <td>63037</td>\n",
       "      <td>147</td>\n",
       "      <td>no_sympathy</td>\n",
       "      <td>premium_no_trial</td>\n",
       "      <td>C1</td>\n",
       "      <td>Control</td>\n",
       "    </tr>\n",
       "    <tr>\n",
       "      <th>277</th>\n",
       "      <td>892216461</td>\n",
       "      <td>United States of America</td>\n",
       "      <td>2017-10-18 14:41:00</td>\n",
       "      <td>2017-10-18 15:02:00</td>\n",
       "      <td>63037</td>\n",
       "      <td>147</td>\n",
       "      <td>autoreply_message</td>\n",
       "      <td>premium_no_trial</td>\n",
       "      <td>C1</td>\n",
       "      <td>Control</td>\n",
       "    </tr>\n",
       "    <tr>\n",
       "      <th>317</th>\n",
       "      <td>891383310</td>\n",
       "      <td>Turkey</td>\n",
       "      <td>2017-04-11 20:47:00</td>\n",
       "      <td>2017-04-11 22:17:00</td>\n",
       "      <td>63037</td>\n",
       "      <td>147</td>\n",
       "      <td>autoreply_message</td>\n",
       "      <td>premium_no_trial</td>\n",
       "      <td>C1</td>\n",
       "      <td>Control</td>\n",
       "    </tr>\n",
       "    <tr>\n",
       "      <th>22</th>\n",
       "      <td>892307238</td>\n",
       "      <td>Spain</td>\n",
       "      <td>2017-10-16 16:01:00</td>\n",
       "      <td>2017-10-16 20:41:00</td>\n",
       "      <td>63037</td>\n",
       "      <td>147</td>\n",
       "      <td>left_sidebar_menu</td>\n",
       "      <td>premium_no_trial</td>\n",
       "      <td>C2</td>\n",
       "      <td>Control</td>\n",
       "    </tr>\n",
       "    <tr>\n",
       "      <th>47</th>\n",
       "      <td>891778551</td>\n",
       "      <td>United Arab Emirates</td>\n",
       "      <td>2017-10-27 21:26:00</td>\n",
       "      <td>2017-10-27 22:30:00</td>\n",
       "      <td>81796</td>\n",
       "      <td>147</td>\n",
       "      <td>left_sidebar_menu</td>\n",
       "      <td>premium_no_trial</td>\n",
       "      <td>C2</td>\n",
       "      <td>Control</td>\n",
       "    </tr>\n",
       "  </tbody>\n",
       "</table>\n",
       "</div>"
      ],
      "text/plain": [
       "           uid                   country           joined_at  \\\n",
       "12   891178380                     Spain 2017-08-11 03:54:00   \n",
       "196  892038759      United Arab Emirates 2017-10-22 11:12:00   \n",
       "30   892421277  United States of America 2017-10-14 13:05:00   \n",
       "143  892333905                     Italy 2017-10-16 01:38:00   \n",
       "277  892216461  United States of America 2017-10-18 14:41:00   \n",
       "317  891383310                    Turkey 2017-04-11 20:47:00   \n",
       "22   892307238                     Spain 2017-10-16 16:01:00   \n",
       "47   891778551      United Arab Emirates 2017-10-27 21:26:00   \n",
       "\n",
       "                paid_at  revenue  payment_id          from_page  \\\n",
       "12  2017-09-11 21:53:00   113477         147           promo_09   \n",
       "196 2017-10-22 16:23:00   113477         147  autoreply_message   \n",
       "30  2017-10-15 13:11:00    47723         147           promo_09   \n",
       "143 2017-10-16 13:10:00    63037         147        no_sympathy   \n",
       "277 2017-10-18 15:02:00    63037         147  autoreply_message   \n",
       "317 2017-04-11 22:17:00    63037         147  autoreply_message   \n",
       "22  2017-10-16 20:41:00    63037         147  left_sidebar_menu   \n",
       "47  2017-10-27 22:30:00    81796         147  left_sidebar_menu   \n",
       "\n",
       "         product_type Group    Class  \n",
       "12   premium_no_trial     T     Test  \n",
       "196  premium_no_trial     T     Test  \n",
       "30   premium_no_trial    C1  Control  \n",
       "143  premium_no_trial    C1  Control  \n",
       "277  premium_no_trial    C1  Control  \n",
       "317  premium_no_trial    C1  Control  \n",
       "22   premium_no_trial    C2  Control  \n",
       "47   premium_no_trial    C2  Control  "
      ]
     },
     "execution_count": 66,
     "metadata": {},
     "output_type": "execute_result"
    }
   ],
   "source": [
    "Em_check1.query(\"revenue > 40000\")"
   ]
  },
  {
   "cell_type": "markdown",
   "metadata": {},
   "source": [
    "Видно, что все выделяющиеся по размеру транзакции связаны с покупкой премиальной подписки. Так как в сервисах обычно предоставляется возможность оформить подписку на долгий срок (порой еще и со скидкой), то оставим эти транзакции, т.к.:\n",
    "- такие транзакции есть во всех группах\n",
    "- связаны они скорее всего с тем, что пользователи решили взять подписку сразу на долгий срок (1-2 года или даже больше), что также является корректным при проведении эксперимента"
   ]
  },
  {
   "cell_type": "markdown",
   "metadata": {},
   "source": [
    "Посмотрим на \"total_revenue\""
   ]
  },
  {
   "cell_type": "code",
   "execution_count": 55,
   "metadata": {},
   "outputs": [
    {
     "data": {
      "text/plain": [
       "<matplotlib.axes._subplots.AxesSubplot at 0x7fa85bc6f160>"
      ]
     },
     "execution_count": 55,
     "metadata": {},
     "output_type": "execute_result"
    },
    {
     "data": {
      "image/png": "[encoded data removed]",
      "text/plain": [
       "<Figure size 432x288 with 1 Axes>"
      ]
     },
     "metadata": {
      "needs_background": "light"
     },
     "output_type": "display_data"
    }
   ],
   "source": [
    "# Сперва добавим графу с номером группы к каждой таблице\n",
    "users_T  = users_test.assign(Group=\"T\", Class='Test')\n",
    "users_C1 = users_control_1.assign(Group=\"C1\", Class='Control')\n",
    "users_C2 = users_control_2.assign(Group=\"C2\", Class='Control')\n",
    "\n",
    "# Теперь соединим данные в один df для анализа\n",
    "Em_check = pd.concat([users_T, users_C1, users_C2])\n",
    "\n",
    "# Построим боксплот для наглядности\n",
    "sns.boxplot(x=\"Group\", y=\"total_revenue\", data=Em_check)"
   ]
  },
  {
   "cell_type": "markdown",
   "metadata": {},
   "source": [
    "Видим, что подавляющее большинство пользователей из трех групп не превышают по выручке ~150 000 у.е.\n",
    "\n",
    "В контрольной группе \"С1\" видим аномальный объем выручки ~ 500к\n",
    "\n",
    "Проверим, что подобный выброс только в \"С1\" и уберем его"
   ]
  },
  {
   "cell_type": "code",
   "execution_count": 68,
   "metadata": {},
   "outputs": [
    {
     "data": {
      "text/html": [
       "<div>\n",
       "<style scoped>\n",
       "    .dataframe tbody tr th:only-of-type {\n",
       "        vertical-align: middle;\n",
       "    }\n",
       "\n",
       "    .dataframe tbody tr th {\n",
       "        vertical-align: top;\n",
       "    }\n",
       "\n",
       "    .dataframe thead th {\n",
       "        text-align: right;\n",
       "    }\n",
       "</style>\n",
       "<table border=\"1\" class=\"dataframe\">\n",
       "  <thead>\n",
       "    <tr style=\"text-align: right;\">\n",
       "      <th></th>\n",
       "      <th>uid</th>\n",
       "      <th>age</th>\n",
       "      <th>attraction_coeff</th>\n",
       "      <th>coins</th>\n",
       "      <th>country</th>\n",
       "      <th>visit_days</th>\n",
       "      <th>gender</th>\n",
       "      <th>age_filter_start</th>\n",
       "      <th>age_filter_end</th>\n",
       "      <th>views_count</th>\n",
       "      <th>was_premium</th>\n",
       "      <th>is_premium</th>\n",
       "      <th>total_revenue</th>\n",
       "      <th>Group</th>\n",
       "      <th>Class</th>\n",
       "    </tr>\n",
       "  </thead>\n",
       "  <tbody>\n",
       "    <tr>\n",
       "      <th>1427</th>\n",
       "      <td>892333905</td>\n",
       "      <td>22</td>\n",
       "      <td>175</td>\n",
       "      <td>3608.0</td>\n",
       "      <td>Italy</td>\n",
       "      <td>1,2,3,4,5,6,7,15</td>\n",
       "      <td>1</td>\n",
       "      <td>19</td>\n",
       "      <td>25</td>\n",
       "      <td>575</td>\n",
       "      <td>1.0</td>\n",
       "      <td>1.0</td>\n",
       "      <td>486330</td>\n",
       "      <td>C1</td>\n",
       "      <td>Control</td>\n",
       "    </tr>\n",
       "  </tbody>\n",
       "</table>\n",
       "</div>"
      ],
      "text/plain": [
       "            uid  age  attraction_coeff   coins country        visit_days  \\\n",
       "1427  892333905   22               175  3608.0   Italy  1,2,3,4,5,6,7,15   \n",
       "\n",
       "      gender  age_filter_start  age_filter_end  views_count  was_premium  \\\n",
       "1427       1                19              25          575          1.0   \n",
       "\n",
       "      is_premium  total_revenue Group    Class  \n",
       "1427         1.0         486330    C1  Control  "
      ]
     },
     "execution_count": 68,
     "metadata": {},
     "output_type": "execute_result"
    }
   ],
   "source": [
    "Em_check.query(\"total_revenue > 200000\")"
   ]
  },
  {
   "cell_type": "code",
   "execution_count": 69,
   "metadata": {},
   "outputs": [],
   "source": [
    "# Уберем этого пользователя из дф\n",
    "\n",
    "transactions_control_1 = transactions_control_1.query('uid != \"892333905\"')\n",
    "users_control_1        = users_control_1.query('uid != \"892333905\"')\n",
    "Em_check               = Em_check.query('uid != \"892333905\"')\n",
    "tc1_all                = tc1_all.query('uid != \"892333905\"')\n",
    "uc1_all                = uc1_all.query('uid != \"892333905\"')"
   ]
  },
  {
   "cell_type": "markdown",
   "metadata": {},
   "source": [
    "Соединим полученные дф с данными о пользователях для дальнейшей работы"
   ]
  },
  {
   "cell_type": "code",
   "execution_count": 70,
   "metadata": {},
   "outputs": [],
   "source": [
    "# Сперва добавим графу с номером группы к каждой таблице\n",
    "users_t  = users_test.assign(Group=\"T\", Class='Test')\n",
    "users_c1 = users_control_1.assign(Group=\"C1\", Class='Control')\n",
    "users_c2 = users_control_2.assign(Group=\"C2\", Class='Control')\n",
    "\n",
    "transactions_t  = transactions_test.assign(Group=\"T\", Class='Test')      \n",
    "transactions_c1 = transactions_control_1.assign(Group=\"C1\", Class='Control')\n",
    "transactions_c2 = transactions_control_2.assign(Group=\"C2\", Class='Control')\n",
    "\n",
    "ut_all  = ut_all.assign(Group=\"T\", Class='Test')\n",
    "uc1_all = uc1_all.assign(Group=\"C1\", Class='Control')\n",
    "uc2_all = uc2_all.assign(Group=\"C2\", Class='Control')\n",
    "\n",
    "tt_all  = tt_all.assign(Group=\"T\", Class='Test')\n",
    "tc1_all = tc1_all.assign(Group=\"C1\", Class='Control')\n",
    "tc2_all = tc2_all.assign(Group=\"C2\", Class='Control')\n",
    "\n",
    "# Теперь соединим данные в один df для анализа\n",
    "df_users            = pd.concat([users_t, users_c1, users_c2])\n",
    "df_transactions     = pd.concat([transactions_t, transactions_c1, transactions_c2])\n",
    "df_users_all        = pd.concat([ut_all, uc1_all, uc2_all])\n",
    "df_transactions_all = pd.concat([tt_all, tc1_all, tc2_all])"
   ]
  },
  {
   "cell_type": "markdown",
   "metadata": {},
   "source": [
    "---------------\n",
    "## Теперь проверим репрезентативность выборок"
   ]
  },
  {
   "cell_type": "markdown",
   "metadata": {},
   "source": [
    "Проверим распределение пользователей между группами, чтобы уведиться в его равномерности.\n",
    "\n",
    "Хочется понимать - нет ли статзначимых различий между размерами групп пользователей.\n",
    "\n",
    "Использую хи-квадрат, для выявления статистики \n",
    "\n",
    "- $H_0$: размеры выборок контрольных и тестовых групп статзначимо не различаются \n",
    "- $H_1$: различия в размерах выборок статзначимы"
   ]
  },
  {
   "cell_type": "code",
   "execution_count": 71,
   "metadata": {},
   "outputs": [],
   "source": [
    "# Соберем данные для применения критерия\n",
    "\n",
    "chi_2 = [[users_t.shape[0], df_users.shape[0]], \n",
    "        [users_c1.shape[0], df_users.shape[0]], \n",
    "        [users_c2.shape[0], df_users.shape[0]],]"
   ]
  },
  {
   "cell_type": "code",
   "execution_count": 72,
   "metadata": {},
   "outputs": [],
   "source": [
    "stat, p, dof, expected = chi2_contingency(chi_2)"
   ]
  },
  {
   "cell_type": "code",
   "execution_count": 73,
   "metadata": {},
   "outputs": [
    {
     "data": {
      "text/plain": [
       "(5.464285714285715, 0.06507968367867656)"
      ]
     },
     "execution_count": 73,
     "metadata": {},
     "output_type": "execute_result"
    }
   ],
   "source": [
    "stat, p"
   ]
  },
  {
   "cell_type": "markdown",
   "metadata": {},
   "source": [
    "Интерпретируем результат:"
   ]
  },
  {
   "cell_type": "code",
   "execution_count": 74,
   "metadata": {},
   "outputs": [
    {
     "name": "stdout",
     "output_type": "stream",
     "text": [
      "Не отклоняем H0\n"
     ]
    }
   ],
   "source": [
    "prob = 0.95\n",
    "critical = chi2.ppf(prob, dof)\n",
    "if abs(stat) >= critical:\n",
    "    print('Отклоняем H0')\n",
    "else:\n",
    "    print('Не отклоняем H0')"
   ]
  },
  {
   "cell_type": "code",
   "execution_count": 75,
   "metadata": {},
   "outputs": [
    {
     "name": "stdout",
     "output_type": "stream",
     "text": [
      "Не отклоняем H0\n"
     ]
    }
   ],
   "source": [
    "prob = 0.95\n",
    "alpha = 1.0 - prob\n",
    "if p <= alpha:\n",
    "    print('Отклоняем H0')\n",
    "else:\n",
    "    print('Не отклоняем H0')"
   ]
  },
  {
   "cell_type": "markdown",
   "metadata": {},
   "source": [
    "Таким образом мы видим, что размеры выборок статзначимо не различаются"
   ]
  },
  {
   "cell_type": "markdown",
   "metadata": {},
   "source": [
    "--------"
   ]
  },
  {
   "cell_type": "code",
   "execution_count": 76,
   "metadata": {},
   "outputs": [
    {
     "data": {
      "image/png": "[encoded data removed]",
      "text/plain": [
       "<Figure size 1080x360 with 3 Axes>"
      ]
     },
     "metadata": {
      "needs_background": "light"
     },
     "output_type": "display_data"
    }
   ],
   "source": [
    "# Посмотрим на то, как распределены пользователи по возрасту внутри групп\n",
    "\n",
    "g = sns.FacetGrid (data=df_users, col='Group', col_wrap= 3, height= 5)\n",
    "\n",
    "g. map (sns.histplot , 'age') \n",
    "\n",
    "sns.despine()"
   ]
  },
  {
   "cell_type": "markdown",
   "metadata": {},
   "source": [
    "Посмотрим на средний возраст групп:"
   ]
  },
  {
   "cell_type": "code",
   "execution_count": 77,
   "metadata": {},
   "outputs": [
    {
     "name": "stdout",
     "output_type": "stream",
     "text": [
      "Средние:\n",
      "Тест       32.784615384615385\n",
      "Контроль 1 31.263157894736842\n",
      "Контроль 2 29.91578947368421\n"
     ]
    }
   ],
   "source": [
    "print('Средние:')\n",
    "print('Тест      ', df_users.query('Group == \"T\"').age.mean())\n",
    "print('Контроль 1', df_users.query('Group == \"C1\"').age.mean())\n",
    "print('Контроль 2', df_users.query('Group == \"C2\"').age.mean())"
   ]
  },
  {
   "cell_type": "markdown",
   "metadata": {},
   "source": [
    "Чтобы узнать статзначимы ли различия среднего возраста в группах (тестовой и контрольных), можно применить ANOVA, который поможет сравнить средние значения возраста в трех группах:\n",
    "\n",
    "- $H_0$: Нет существенных различий по среднему возрасту между группами\n",
    "- $H_1$: Есть существенные различия между группами."
   ]
  },
  {
   "cell_type": "code",
   "execution_count": 78,
   "metadata": {},
   "outputs": [
    {
     "data": {
      "text/plain": [
       "F_onewayResult(statistic=1.3697959551560193, pvalue=0.2560445859915416)"
      ]
     },
     "execution_count": 78,
     "metadata": {},
     "output_type": "execute_result"
    }
   ],
   "source": [
    "f_oneway(df_users.query('Group == \"T\"').age, \n",
    "              df_users.query('Group == \"C1\"').age, \n",
    "              df_users.query('Group == \"C2\"').age)"
   ]
  },
  {
   "cell_type": "markdown",
   "metadata": {},
   "source": [
    "Тест ANOVA показал, что p-значение больше 0,05, а значит мы остаемся верны нулевой гипотезе о том, что средний возраст в группах идентичен.\n",
    "\n",
    "А значит мы можем заключить, что по возрастной разбивке группы сформированы корректно."
   ]
  },
  {
   "cell_type": "markdown",
   "metadata": {},
   "source": [
    "-------------\n",
    "Теперь посмотрим на распределение внутри групп пользователей по странам:"
   ]
  },
  {
   "cell_type": "code",
   "execution_count": 79,
   "metadata": {},
   "outputs": [
    {
     "data": {
      "image/png": "[encoded data removed]",
      "text/plain": [
       "<Figure size 936x360 with 3 Axes>"
      ]
     },
     "metadata": {
      "needs_background": "light"
     },
     "output_type": "display_data"
    }
   ],
   "source": [
    "fig, axes = plt.subplots(nrows=1, ncols=3, figsize=(13, 5))\n",
    "\n",
    "sns.histplot(y=users_t.country.sort_values(ascending=False), ax = axes[0])\n",
    "axes[0].set(title='Test group', ylabel='')\n",
    "\n",
    "sns.histplot(y=users_c1.country.sort_values(ascending=False), ax = axes[1])\n",
    "axes[1].set(title='Сontrol 1 group', ylabel='')\n",
    "\n",
    "sns.histplot(y=users_c2.country.sort_values(ascending=False), ax = axes[2])\n",
    "axes[2].set(title='Сontrol 2 group', ylabel='')\n",
    "\n",
    "sns.despine()\n",
    "plt.tight_layout()"
   ]
  },
  {
   "cell_type": "markdown",
   "metadata": {},
   "source": [
    "Сравним распределение пользователей по странам в группах с помощью статистического теста\n",
    "\n",
    "Так как переменные Group и country - номинативные (категориальные), то для анализа нам нужно использовать хи-квадрат, перед этим обработав данные с помощью pd.crosstab\n",
    "\n",
    "- $H_0$: Распределение по странам в группах одинаковое \n",
    "- $H_1$: Распределение по странам в группах различно"
   ]
  },
  {
   "cell_type": "code",
   "execution_count": 80,
   "metadata": {},
   "outputs": [],
   "source": [
    "stat_1, p_1, dof_1, expected_1 = chi2_contingency(pd.crosstab(df_users.country, df_users.Group))"
   ]
  },
  {
   "cell_type": "code",
   "execution_count": 81,
   "metadata": {},
   "outputs": [
    {
     "data": {
      "text/plain": [
       "(32.96066566494771, 0.2371958959361185)"
      ]
     },
     "execution_count": 81,
     "metadata": {},
     "output_type": "execute_result"
    }
   ],
   "source": [
    "stat_1, p_1"
   ]
  },
  {
   "cell_type": "markdown",
   "metadata": {},
   "source": [
    "Интерпретируем результат:"
   ]
  },
  {
   "cell_type": "code",
   "execution_count": 82,
   "metadata": {},
   "outputs": [
    {
     "name": "stdout",
     "output_type": "stream",
     "text": [
      "Не отклоняем H0\n"
     ]
    }
   ],
   "source": [
    "prob = 0.95\n",
    "critical = chi2.ppf(prob, dof_1)\n",
    "if abs(stat_1) >= critical:\n",
    "    print('Отклоняем H0')\n",
    "else:\n",
    "    print('Не отклоняем H0')"
   ]
  },
  {
   "cell_type": "code",
   "execution_count": 83,
   "metadata": {},
   "outputs": [
    {
     "name": "stdout",
     "output_type": "stream",
     "text": [
      "Не отклоняем H0\n"
     ]
    }
   ],
   "source": [
    "rob = 0.95\n",
    "alpha = 1.0 - prob\n",
    "if p_1 <= alpha:\n",
    "    print('Отклоняем H0')\n",
    "else:\n",
    "    print('Не отклоняем H0')"
   ]
  },
  {
   "cell_type": "markdown",
   "metadata": {},
   "source": [
    "Таким образом мы видим, что по распределению по странам, группы статзначимо не различаются, а значит пока группы собраны репрезентативно по основным признакам\n",
    "\n",
    "------------\n",
    "\n",
    "\n",
    "Посмотрим на то, как распределены пользователи по половому признаку внутри групп"
   ]
  },
  {
   "cell_type": "code",
   "execution_count": 84,
   "metadata": {},
   "outputs": [
    {
     "data": {
      "image/png": "[encoded data removed]",
      "text/plain": [
       "<Figure size 432x288 with 1 Axes>"
      ]
     },
     "metadata": {
      "needs_background": "light"
     },
     "output_type": "display_data"
    }
   ],
   "source": [
    "sns.countplot(x=\"Group\", hue = 'gender', data=df_users)\n",
    "\n",
    "sns.despine()"
   ]
  },
  {
   "cell_type": "markdown",
   "metadata": {},
   "source": [
    "Тут в принципе не изменит сути замена чисел обозначением пола (скорее всего 1 - мужчина, 0 - женщина). \n",
    "\n",
    "Главное сравнить распределение полов в группах, чтобы понимать репрезентативные ли собрались выборки.\n",
    "\n",
    "Но уже из графика видно, что по полу группы сформировались не репрезентативные, так как в тестовой и первой контрольной группах совсем нет женщин.\n",
    "\n",
    "Ввиду такой ситуации сравним классы, вместо групп, чтобы посмотреть на ситуацию чуть шире.\n",
    "\n",
    "Так как вновь перед взором предстают категориальные переменные, то использую хи-квадрат.\n",
    "\n",
    "- $H_0$: Распределение по полу в классах одинаковое \n",
    "- $H_1$: Распределение по полу в классах различно"
   ]
  },
  {
   "cell_type": "code",
   "execution_count": 85,
   "metadata": {},
   "outputs": [],
   "source": [
    "stat_2, p_2, dof_2, expected_2 = chi2_contingency(pd.crosstab(df_users.gender, df_users.Class))"
   ]
  },
  {
   "cell_type": "code",
   "execution_count": 86,
   "metadata": {},
   "outputs": [
    {
     "data": {
      "text/plain": [
       "(0.6443137651821861, 0.42215302349567174)"
      ]
     },
     "execution_count": 86,
     "metadata": {},
     "output_type": "execute_result"
    }
   ],
   "source": [
    "stat_2, p_2"
   ]
  },
  {
   "cell_type": "markdown",
   "metadata": {},
   "source": [
    "Интерпретируем результат:"
   ]
  },
  {
   "cell_type": "code",
   "execution_count": 87,
   "metadata": {},
   "outputs": [
    {
     "name": "stdout",
     "output_type": "stream",
     "text": [
      "Не отклоняем H0\n"
     ]
    }
   ],
   "source": [
    "prob = 0.95\n",
    "critical = chi2.ppf(prob, dof_2)\n",
    "if abs(stat_2) >= critical:\n",
    "    print('Отклоняем H0')\n",
    "else:\n",
    "    print('Не отклоняем H0')"
   ]
  },
  {
   "cell_type": "code",
   "execution_count": 88,
   "metadata": {},
   "outputs": [
    {
     "name": "stdout",
     "output_type": "stream",
     "text": [
      "Не отклоняем H0\n"
     ]
    }
   ],
   "source": [
    "rob = 0.95\n",
    "alpha = 1.0 - prob\n",
    "if p_2 <= alpha:\n",
    "    print('Отклоняем H0')\n",
    "else:\n",
    "    print('Не отклоняем H0')"
   ]
  },
  {
   "cell_type": "markdown",
   "metadata": {},
   "source": [
    "Таким образом мы видим, что по распределению по полу, классы статзначимо не различаются. \n",
    "\n",
    "Это интересное наблюдение, исходя из компановки групп, которая даже визуально выглядит нерепрезентативно.\n",
    "\n",
    "В итоге можем сделать вывод, что по всем рассматриваемым признакам (кроме пола) группы сформировались репрезентативно."
   ]
  },
  {
   "cell_type": "markdown",
   "metadata": {},
   "source": [
    "----------------------\n",
    "\n",
    "# Проверка успешности эксперимента / анализ гипотез"
   ]
  },
  {
   "cell_type": "markdown",
   "metadata": {},
   "source": [
    "Так как в данном эксперименте мы смотрим в основном только на платящих пользователей, то при рассчете классической метрики ARPPU, в этом исследовании она будет подразделяться на:\n",
    "\n",
    "- **ARPPU** - общая выручка (платящих пользователей) в среднем на одного платящего пользователя\n",
    "- **ARPPU_Premium** - общая выручка (платящих пользователей) в среднем на одного платящего премиального пользователя\n",
    "\n",
    "Для того, чтобы оценить успешность эксперимента, в первую очередь, рассмотрим изменение метрики **ARPPU_Premium**, так как эксперимент был направлен на премиальных пользователей (на изменение стоимости премиальной подписки), а значит успехом мы будем считать увеличение дохода от этих пользователей, так как это один из важных показателей эффективности бизнеса.\n",
    "\n",
    "Также, обратим внимание на **соотношение тех кто отключил/оставил подписку**, чтобы понимать как изменение стоимости подписки повлияло на долгосрочный интерес пользователей к ней. Ведь если пользователь подключит подписку и будет ею долгое время пользоваться - это увеличит доход сервиса.\n",
    "\n",
    "Обратим внимание на **соотношение покупок полной/триал версии подписки**, чтобы понять стала ли полная подписка привлекательней пробной. Если частота покупок полной подписки вырастет, то это сможет говорить о росте доходов сервиса, ведь, как правило, полная подписка стоит дороже. Но также если соотношение останется на прежнем уровне, то это будет значить, что премиальная подписка не стала хуже пробной, в плане цены.\n",
    "\n",
    "Посмотрим на **конверсию в покупку подписки**, чтобы увидеть насколько успешно получается привлечь новых пользователей к пользованию подпиской\n",
    "\n",
    "Также посмотрим и на то, как изменился средний **Total_revenue** в группах по премиальным и обычным платящим пользователям. Это даст понять стала ли в среднем площадка больше получать дохода (со всех источников) с пользователя, после внесения изменений в стоимость премиальной полной подписки. Так как методику расчета total_revenue (из-за найденных расхождений в revenue и total_revenue) мы точно не знаем, поэтому данное сравнение будет дополнительным (не основным) фактором при принятии решения об успешности эксперимента.\n",
    "\n",
    "Ну и напоследок оценим изменение **ARPPU** по группам\n",
    "\n",
    "Т.о. основными критериями успеха будут служить:\n",
    "\n",
    "- Увеличение ARPPU_Premium\n",
    "- Увеличение ARPPU в целом\n",
    "- Премиальные пользователи не стали отключать подписку чаще\n",
    "- Пользователи не стали менять свой выбор в пользу пробной подписки из-за изменения цены на полную\n",
    "- Пользователи не стали меньше покупать платную подписку (конверсия не упала)\n",
    "\n",
    "-----"
   ]
  },
  {
   "cell_type": "markdown",
   "metadata": {},
   "source": [
    "### Проведем А/А тест для контрольных групп перед А/В тестированием.\n",
    "\n",
    "Сравним группы по среднему чеку и средней общей выручке со всех платящих пользователей, а затем только премиальных.\n",
    "\n",
    "Для начала посмотрим на средний чек всех пользователей.\n",
    "\n",
    "Но сперва проверим различны ли дисперсии в контрольных группах, поэтому проведем тест Левена:\n",
    "\n",
    "- $H_0$: дисперсии не отличаются (equal_var=True)\n",
    "- $H_1$: дисперсии различны (equal_var=False)"
   ]
  },
  {
   "cell_type": "code",
   "execution_count": 89,
   "metadata": {},
   "outputs": [
    {
     "data": {
      "text/plain": [
       "LeveneResult(statistic=0.13306394670217064, pvalue=0.7155201497960955)"
      ]
     },
     "execution_count": 89,
     "metadata": {},
     "output_type": "execute_result"
    }
   ],
   "source": [
    "levene(tc1_all.revenue, tc2_all.revenue)"
   ]
  },
  {
   "cell_type": "markdown",
   "metadata": {},
   "source": [
    "Так как дисперсии не отличаются, то подставим соответствующее значение \"equal_var\" в тесте."
   ]
  },
  {
   "cell_type": "markdown",
   "metadata": {},
   "source": [
    "Проведем t-тест, который поможет сравнить средние значения revenue двух выборок:\n",
    "\n",
    "- $H_0$: статистически значимых различий между средними значениями revenue в контрольных группах нет\n",
    "- $H_1$: статистически значимые различия между средними значениями revenue в контрольных группах есть"
   ]
  },
  {
   "cell_type": "code",
   "execution_count": 90,
   "metadata": {},
   "outputs": [
    {
     "data": {
      "image/png": "[encoded data removed]",
      "text/plain": [
       "<Figure size 576x288 with 1 Axes>"
      ]
     },
     "metadata": {
      "needs_background": "light"
     },
     "output_type": "display_data"
    }
   ],
   "source": [
    "data = []\n",
    "\n",
    "for i in range(1000):\n",
    "    c1 = tc1_all.revenue.sample(100, replace=False).values\n",
    "    c2 = tc2_all.revenue.sample(100, replace=False).values\n",
    "    data.append(ttest_ind(c1, c2, equal_var = True)[1])\n",
    "\n",
    "fig, axes = plt.subplots(figsize=(8, 4))\n",
    "sns.histplot(data)\n",
    "axes.set(title = 'A/A test. t-test revenue', xlabel = 'p-value', ylabel = '')\n",
    "sns.despine()\n",
    "plt.tight_layout()"
   ]
  },
  {
   "cell_type": "markdown",
   "metadata": {},
   "source": [
    "Проверяем, что количество ложноположительных случаев не превышает уровень значимости в 0,05:"
   ]
  },
  {
   "cell_type": "code",
   "execution_count": 91,
   "metadata": {},
   "outputs": [
    {
     "data": {
      "text/plain": [
       "True"
      ]
     },
     "execution_count": 91,
     "metadata": {},
     "output_type": "execute_result"
    }
   ],
   "source": [
    "((np.array(data) < 0.05) / 1000).sum() < 0.05"
   ]
  },
  {
   "cell_type": "markdown",
   "metadata": {},
   "source": [
    "Так как количество ложноположительных случаев не превышает уровень значимости, то нулевую гипотезу мы не отвергаем, а значит - статистически значимых различий между средними значениями revenue в контрольных группах не наблюдается."
   ]
  },
  {
   "cell_type": "markdown",
   "metadata": {},
   "source": [
    "Посмотрим на среднюю общую выручку со всех платящих пользователей.\n",
    "\n",
    "Но сперва проверим различны ли дисперсии в контрольных группах, поэтому проведем тест Левена:\n",
    "\n",
    "- $H_0$: дисперсии не отличаются (equal_var=True)\n",
    "- $H_1$: дисперсии различны (equal_var=False)"
   ]
  },
  {
   "cell_type": "code",
   "execution_count": 92,
   "metadata": {},
   "outputs": [
    {
     "data": {
      "text/plain": [
       "LeveneResult(statistic=0.013076504900388294, pvalue=0.909033079510561)"
      ]
     },
     "execution_count": 92,
     "metadata": {},
     "output_type": "execute_result"
    }
   ],
   "source": [
    "levene(uc1_all.total_revenue, uc2_all.total_revenue)"
   ]
  },
  {
   "cell_type": "markdown",
   "metadata": {},
   "source": [
    "Так как дисперсии не отличаются, то подставим соответствующее значение \"equal_var\" в тесте."
   ]
  },
  {
   "cell_type": "markdown",
   "metadata": {},
   "source": [
    "Проведем t-тест, который поможет сравнить средние значения total_revenue двух выборок:\n",
    "\n",
    "- $H_0$: статистически значимых различий между средними значениями total_revenue в контрольных группах нет\n",
    "- $H_1$: статистически значимые различия между средними значениями total_revenue в контрольных группах есть"
   ]
  },
  {
   "cell_type": "code",
   "execution_count": 93,
   "metadata": {},
   "outputs": [
    {
     "data": {
      "image/png": "[encoded data removed]",
      "text/plain": [
       "<Figure size 576x288 with 1 Axes>"
      ]
     },
     "metadata": {
      "needs_background": "light"
     },
     "output_type": "display_data"
    }
   ],
   "source": [
    "data_t = []\n",
    "\n",
    "for i in range(1000):\n",
    "    uc1 = uc1_all.total_revenue.sample(100, replace=False).values\n",
    "    uc2 = uc2_all.total_revenue.sample(100, replace=False).values\n",
    "    data_t.append(ttest_ind(uc1, uc2, equal_var = True)[1])\n",
    "\n",
    "fig, axes = plt.subplots(figsize=(8, 4))\n",
    "sns.histplot(data_t)\n",
    "axes.set(title = 'A/A test. t-test total_revenue', xlabel = 'p-value', ylabel = '')\n",
    "sns.despine()\n",
    "plt.tight_layout()"
   ]
  },
  {
   "cell_type": "code",
   "execution_count": 94,
   "metadata": {},
   "outputs": [
    {
     "data": {
      "text/plain": [
       "True"
      ]
     },
     "execution_count": 94,
     "metadata": {},
     "output_type": "execute_result"
    }
   ],
   "source": [
    "((np.array(data_t) < 0.05) / 1000).sum() < 0.05"
   ]
  },
  {
   "cell_type": "markdown",
   "metadata": {},
   "source": [
    "Так как количество ложноположительных случаев не превышает уровень значимости, то нулевую гипотезу мы не отвергаем, а значит - статистически значимых различий между средними значениями total_revenue в контрольных группах не наблюдается."
   ]
  },
  {
   "cell_type": "markdown",
   "metadata": {},
   "source": [
    "---------\n",
    "\n",
    "Теперь посмотрим на средний чек премиальных пользователей в контрольных группах\n",
    "\n",
    "Проверим различны ли дисперсии в контрольных группах, поэтому проведем тест Левена:\n",
    "\n",
    "- $H_0$: дисперсии не отличаются (equal_var=True)\n",
    "- $H_1$: дисперсии различны (equal_var=False)"
   ]
  },
  {
   "cell_type": "code",
   "execution_count": 95,
   "metadata": {},
   "outputs": [
    {
     "data": {
      "text/plain": [
       "LeveneResult(statistic=0.05104185785269583, pvalue=0.8214944006972532)"
      ]
     },
     "execution_count": 95,
     "metadata": {},
     "output_type": "execute_result"
    }
   ],
   "source": [
    "levene(transactions_c1.revenue, transactions_c2.revenue)"
   ]
  },
  {
   "cell_type": "markdown",
   "metadata": {},
   "source": [
    "Так как дисперсии не отличаются, то проведем стандартный Т-тест (\"equal_var\" = True)."
   ]
  },
  {
   "cell_type": "markdown",
   "metadata": {},
   "source": [
    "Проведем t-тест, который поможет сравнить средние значения revenue двух выборок:\n",
    "\n",
    "- $H_0$: статистически значимых различий между средними значениями revenue в контрольных группах нет\n",
    "- $H_1$: статистически значимые различия между средними значениями revenue в контрольных группах есть"
   ]
  },
  {
   "cell_type": "code",
   "execution_count": 96,
   "metadata": {},
   "outputs": [
    {
     "data": {
      "image/png": "[encoded data removed]",
      "text/plain": [
       "<Figure size 576x288 with 1 Axes>"
      ]
     },
     "metadata": {
      "needs_background": "light"
     },
     "output_type": "display_data"
    }
   ],
   "source": [
    "data_1 = []\n",
    "\n",
    "for i in range(1000):\n",
    "    c_u_1 = transactions_c1.revenue.sample(100, replace=False).values\n",
    "    c_u_2 = transactions_c2.revenue.sample(99, replace=False).values\n",
    "#   Сэмпл размером 99 взят потому, что в с2 количество наблюдений равняется 99 (на 1 отличается от с1)\n",
    "#   Так как replace=False, то при 100 сэмплах тест не работает\n",
    "#   Разницу p-value при одинаковых сэмплах и различных (на 1 единицу) не увидел, поэтому оставил так\n",
    "#   Если при полномасштабном тесте это критично, то готов прочитать верное решение в сложившейся ситуации :)\n",
    "    data_1.append(ttest_ind(c_u_1, c_u_2, equal_var = True)[1])\n",
    "\n",
    "fig, axes = plt.subplots(figsize=(8, 4))\n",
    "sns.histplot(data)\n",
    "axes.set(title = 'A/A test. t-test revenue (Premium)', xlabel = 'p-value', ylabel = '')\n",
    "sns.despine()\n",
    "plt.tight_layout()"
   ]
  },
  {
   "cell_type": "code",
   "execution_count": 97,
   "metadata": {},
   "outputs": [
    {
     "data": {
      "text/plain": [
       "True"
      ]
     },
     "execution_count": 97,
     "metadata": {},
     "output_type": "execute_result"
    }
   ],
   "source": [
    "((np.array(data_1) < 0.05) / 1000).sum() < 0.05"
   ]
  },
  {
   "cell_type": "markdown",
   "metadata": {},
   "source": [
    "Так как количество ложноположительных случаев не превышает уровень значимости, то нулевую гипотезу мы не отвергаем, а значит - статистически значимых различий между средними чеками премиков в контрольных группах не наблюдается."
   ]
  },
  {
   "cell_type": "markdown",
   "metadata": {},
   "source": [
    "Посмотрим на среднюю общую выручку со всех платящих премиальных пользователей.\n",
    "\n",
    "Но сперва проверим различны ли дисперсии в контрольных группах, поэтому проведем тест Левена:\n",
    "\n",
    "- $H_0$: дисперсии не отличаются (equal_var=True)\n",
    "- $H_1$: дисперсии различны (equal_var=False)"
   ]
  },
  {
   "cell_type": "code",
   "execution_count": 98,
   "metadata": {},
   "outputs": [
    {
     "data": {
      "text/plain": [
       "LeveneResult(statistic=0.7275507068924257, pvalue=0.39476364396290653)"
      ]
     },
     "execution_count": 98,
     "metadata": {},
     "output_type": "execute_result"
    }
   ],
   "source": [
    "levene(users_c1.total_revenue, users_c2.total_revenue)"
   ]
  },
  {
   "cell_type": "markdown",
   "metadata": {},
   "source": [
    "Так как дисперсии не отличаются, то подставим соответствующее значение \"equal_var\" в тесте."
   ]
  },
  {
   "cell_type": "markdown",
   "metadata": {},
   "source": [
    "Проведем t-тест, который поможет сравнить средние значения total_revenue двух выборок:\n",
    "\n",
    "- $H_0$: статистически значимых различий между средними значениями total_revenue в контрольных группах нет\n",
    "- $H_1$: статистически значимые различия между средними значениями total_revenue в контрольных группах есть"
   ]
  },
  {
   "cell_type": "code",
   "execution_count": 99,
   "metadata": {},
   "outputs": [
    {
     "data": {
      "image/png": "[encoded data removed]",
      "text/plain": [
       "<Figure size 576x288 with 1 Axes>"
      ]
     },
     "metadata": {
      "needs_background": "light"
     },
     "output_type": "display_data"
    }
   ],
   "source": [
    "data_p = []\n",
    "\n",
    "for i in range(1000):\n",
    "    ucp1 = users_c1.total_revenue.sample(90, replace=False).values\n",
    "    ucp2 = users_c2.total_revenue.sample(90, replace=False).values\n",
    "    data_p.append(ttest_ind(ucp1, ucp2, equal_var = True)[1])\n",
    "\n",
    "fig, axes = plt.subplots(figsize=(8, 4))\n",
    "sns.histplot(data_p)\n",
    "axes.set(title = 'A/A test. t-test total_revenue (Premium)', xlabel = 'p-value', ylabel = '')\n",
    "sns.despine()\n",
    "plt.tight_layout()"
   ]
  },
  {
   "cell_type": "code",
   "execution_count": 100,
   "metadata": {},
   "outputs": [
    {
     "data": {
      "text/plain": [
       "True"
      ]
     },
     "execution_count": 100,
     "metadata": {},
     "output_type": "execute_result"
    }
   ],
   "source": [
    "((np.array(data_p) < 0.05) / 1000).sum() < 0.05"
   ]
  },
  {
   "cell_type": "markdown",
   "metadata": {},
   "source": [
    "Так как количество ложноположительных случаев не превышает уровень значимости, то нулевую гипотезу мы не отвергаем, а значит - статистически значимых различий между средними значениями total_revenue в контрольных группах не наблюдается."
   ]
  },
  {
   "cell_type": "markdown",
   "metadata": {},
   "source": [
    "Значит при проведении последующих А/В тестов, можно использовать только одну из контрольных групп. \n",
    "\n",
    "Я возьму контрольную группу 1, т.к. она соотносится с тестовой по отсутствию женщин."
   ]
  },
  {
   "cell_type": "markdown",
   "metadata": {},
   "source": [
    "-------------\n",
    "\n",
    "## А/В тестирование"
   ]
  },
  {
   "cell_type": "markdown",
   "metadata": {},
   "source": [
    "Cравним средний чек премиальных пользователей при подключении только премиальной подписки.\n",
    "\n",
    "Для этого рассмотрим дф с транзакциями покупок подписки в тестовой и первой контрольной группе"
   ]
  },
  {
   "cell_type": "code",
   "execution_count": 101,
   "metadata": {},
   "outputs": [],
   "source": [
    "df_ab = pd.concat([transactions_t, transactions_c1])"
   ]
  },
  {
   "cell_type": "code",
   "execution_count": 102,
   "metadata": {},
   "outputs": [
    {
     "data": {
      "image/png": "[encoded data removed]",
      "text/plain": [
       "<Figure size 1008x504 with 2 Axes>"
      ]
     },
     "metadata": {
      "needs_background": "light"
     },
     "output_type": "display_data"
    }
   ],
   "source": [
    "# Посмотрим на то, как распределены пользователи по revenue\n",
    "\n",
    "g = sns.FacetGrid (data=df_ab, col='Class', col_wrap= 2, height= 7)\n",
    "\n",
    "g. map (sns.histplot , 'revenue') \n",
    "\n",
    "sns.despine()"
   ]
  },
  {
   "cell_type": "markdown",
   "metadata": {},
   "source": [
    "Чтобы узнать статзначимы ли различия среднего чека в двух группах (тестовой и контрольной), можно применить t-тест, однако перед этим нужно понимать различны ли дисперсии в группах, поэтому проведем тест Левена:\n",
    "\n",
    "- $H_0$: дисперсии не отличаются (equal_var=True)\n",
    "- $H_1$: дисперсии различны (equal_var=False)"
   ]
  },
  {
   "cell_type": "code",
   "execution_count": 103,
   "metadata": {},
   "outputs": [
    {
     "data": {
      "text/plain": [
       "LeveneResult(statistic=2.064878491293033, pvalue=0.1525541209974978)"
      ]
     },
     "execution_count": 103,
     "metadata": {},
     "output_type": "execute_result"
    }
   ],
   "source": [
    "levene(transactions_c1.revenue, transactions_t.revenue)"
   ]
  },
  {
   "cell_type": "markdown",
   "metadata": {},
   "source": [
    "Так как дисперсии статзначимо не отличаются (остаемся верны нулевой гиптезе), то применим стандартный Т-тест\n",
    "\n",
    "- $H_0$: статистически значимых различий между средними значениями revenue в группах нет\n",
    "- $H_1$: статистически значимые различия между средними значениями revenue в группах есть"
   ]
  },
  {
   "cell_type": "code",
   "execution_count": 104,
   "metadata": {},
   "outputs": [
    {
     "data": {
      "text/plain": [
       "Ttest_indResult(statistic=1.900837907023997, pvalue=0.059005475008388215)"
      ]
     },
     "execution_count": 104,
     "metadata": {},
     "output_type": "execute_result"
    }
   ],
   "source": [
    "ttest_ind(transactions_t.revenue, transactions_c1.revenue, equal_var=True)"
   ]
  },
  {
   "cell_type": "markdown",
   "metadata": {},
   "source": [
    "Так как pvalue больше 0.05, мы остаемся верны нулевой гипотезе и можем говорить о том, что средняя выручка от продажи премиальной подписки статзначимо не выросла."
   ]
  },
  {
   "cell_type": "markdown",
   "metadata": {},
   "source": [
    "Посмотрим на абсолютные значения revenue в рассматриваемых группах:"
   ]
  },
  {
   "cell_type": "code",
   "execution_count": 105,
   "metadata": {},
   "outputs": [
    {
     "data": {
      "text/plain": [
       "count        73.000000\n",
       "mean      10807.095890\n",
       "std       17648.107012\n",
       "min        1898.000000\n",
       "25%        5408.000000\n",
       "50%        8086.000000\n",
       "75%       11115.000000\n",
       "max      113477.000000\n",
       "Name: revenue, dtype: float64"
      ]
     },
     "execution_count": 105,
     "metadata": {},
     "output_type": "execute_result"
    }
   ],
   "source": [
    "transactions_t.revenue.describe()"
   ]
  },
  {
   "cell_type": "code",
   "execution_count": 106,
   "metadata": {},
   "outputs": [
    {
     "data": {
      "text/plain": [
       "count      100.000000\n",
       "mean      6875.960000\n",
       "std       9231.488468\n",
       "min       1508.000000\n",
       "25%       4537.000000\n",
       "50%       6292.000000\n",
       "75%       6292.000000\n",
       "max      63037.000000\n",
       "Name: revenue, dtype: float64"
      ]
     },
     "execution_count": 106,
     "metadata": {},
     "output_type": "execute_result"
    }
   ],
   "source": [
    "transactions_c1.revenue.describe()"
   ]
  },
  {
   "cell_type": "markdown",
   "metadata": {},
   "source": [
    "Так как в тестовой группе меньше пользователей, а средняя выручка выше чем в контрольной, то можно предположить, что в нашем эксперименте для пользователей попробовали увеличить стоимость премиальной подписки и посмотреть, что из этого выйдет.\n",
    "\n",
    "-------"
   ]
  },
  {
   "cell_type": "markdown",
   "metadata": {},
   "source": [
    "Рассчитаем средний чек всех пользователей (платящих) в обеих группах"
   ]
  },
  {
   "cell_type": "code",
   "execution_count": 107,
   "metadata": {},
   "outputs": [],
   "source": [
    "df_ab_ARPU = pd.concat([tt_all, tc1_all])"
   ]
  },
  {
   "cell_type": "code",
   "execution_count": 108,
   "metadata": {},
   "outputs": [
    {
     "data": {
      "image/png": "[encoded data removed]",
      "text/plain": [
       "<Figure size 1008x504 with 2 Axes>"
      ]
     },
     "metadata": {
      "needs_background": "light"
     },
     "output_type": "display_data"
    }
   ],
   "source": [
    "# Посмотрим на то, как распределены пользователи по total revenue\n",
    "\n",
    "g = sns.FacetGrid (data=df_ab_ARPU, col='Class', col_wrap= 2, height= 7)\n",
    "\n",
    "g. map (sns.histplot , 'revenue') \n",
    "\n",
    "sns.despine()"
   ]
  },
  {
   "cell_type": "markdown",
   "metadata": {},
   "source": [
    "Чтобы узнать статзначимы ли различия среднего чека в двух группах (тестовой и контрольной), можно применить t-тест, однако перед этим нужно понимать различны ли дисперсии в группах, поэтому проведем тест Левена:\n",
    "\n",
    "- $H_0$: дисперсии не отличаются (equal_var=True)\n",
    "- $H_1$: дисперсии различны (equal_var=False)"
   ]
  },
  {
   "cell_type": "code",
   "execution_count": 109,
   "metadata": {},
   "outputs": [
    {
     "data": {
      "text/plain": [
       "LeveneResult(statistic=0.8356669062324614, pvalue=0.36136584298636887)"
      ]
     },
     "execution_count": 109,
     "metadata": {},
     "output_type": "execute_result"
    }
   ],
   "source": [
    "levene(tt_all.revenue, tc1_all.revenue)"
   ]
  },
  {
   "cell_type": "markdown",
   "metadata": {},
   "source": [
    "Так как дисперсии статзначимо не отличаются (остаемся верны нулевой гиптезе), то применим стандартный Т-тест\n",
    "\n",
    "- $H_0$: статистически значимых различий между средними чеками в группах нет\n",
    "- $H_1$: статистически значимые различия между средними чеками в группах есть"
   ]
  },
  {
   "cell_type": "code",
   "execution_count": 110,
   "metadata": {},
   "outputs": [
    {
     "data": {
      "text/plain": [
       "Ttest_indResult(statistic=2.520994574531958, pvalue=0.012215451734437046)"
      ]
     },
     "execution_count": 110,
     "metadata": {},
     "output_type": "execute_result"
    }
   ],
   "source": [
    "ttest_ind(tt_all.revenue, tc1_all.revenue, equal_var=True)"
   ]
  },
  {
   "cell_type": "markdown",
   "metadata": {},
   "source": [
    "Так как pvalue меньше 0.05, мы отвергаем нулевую гипотезу и можем говорить о том, что средний чек пользователей в тестовой группе статзначимо изменился.\n",
    "\n",
    "Взглянем на то, в какую сторону он изменился:"
   ]
  },
  {
   "cell_type": "code",
   "execution_count": 111,
   "metadata": {},
   "outputs": [
    {
     "data": {
      "text/plain": [
       "count       137.000000\n",
       "mean      11928.970803\n",
       "std       13082.861293\n",
       "min        1898.000000\n",
       "25%        7904.000000\n",
       "50%       12454.000000\n",
       "75%       12766.000000\n",
       "max      113477.000000\n",
       "Name: revenue, dtype: float64"
      ]
     },
     "execution_count": 111,
     "metadata": {},
     "output_type": "execute_result"
    }
   ],
   "source": [
    "tt_all.revenue.describe()"
   ]
  },
  {
   "cell_type": "code",
   "execution_count": 112,
   "metadata": {},
   "outputs": [
    {
     "data": {
      "text/plain": [
       "count      168.000000\n",
       "mean      8882.791667\n",
       "std       7779.202419\n",
       "min       1508.000000\n",
       "25%       6292.000000\n",
       "50%       6376.500000\n",
       "75%      10526.750000\n",
       "max      63037.000000\n",
       "Name: revenue, dtype: float64"
      ]
     },
     "execution_count": 112,
     "metadata": {},
     "output_type": "execute_result"
    }
   ],
   "source": [
    "tc1_all.revenue.describe()"
   ]
  },
  {
   "cell_type": "markdown",
   "metadata": {},
   "source": [
    "Так как и средняя и медиана в тестовой группе выше, то из этого мы понимаем, что пользователи тестовой группы приносят платформе в среднем больше дохода, чем в контрольной\n",
    "\n",
    "-------"
   ]
  },
  {
   "cell_type": "markdown",
   "metadata": {},
   "source": [
    "Теперь взглянем на то, стали ли пользователи чаще отключать подписку из-за ее возросшей стоимости\n",
    "\n",
    "- $H_0$: пользователи отключают подписку так же как и раньше, т.е. отваливаться чаще они не стали\n",
    "- $H_1$: пользователи стали чаще отключать подписку по новой цене"
   ]
  },
  {
   "cell_type": "code",
   "execution_count": 113,
   "metadata": {},
   "outputs": [],
   "source": [
    "# для начала из общего дф возьмем необходимые данные\n",
    "df_users_1 = df_users[['uid', 'was_premium', 'is_premium', 'Group']].query('Group != \"C2\"')"
   ]
  },
  {
   "cell_type": "code",
   "execution_count": 114,
   "metadata": {},
   "outputs": [],
   "source": [
    "# разделим клиентов на три категории: нет подписки, отключил, не отключил\n",
    "\n",
    "def f(s):\n",
    "    if s['was_premium'] == 0.0 and s['is_premium'] == 0.0:\n",
    "        x = 'no_sub'\n",
    "    elif s['was_premium'] == 1.0 and s['is_premium'] == 0.0:\n",
    "        x = 'canceled'\n",
    "    else:\n",
    "        x = 'not canceled'\n",
    "    return x\n",
    "\n",
    "df_users_1['Premium'] = df_users_1.apply(f, axis = 1)"
   ]
  },
  {
   "cell_type": "code",
   "execution_count": 115,
   "metadata": {},
   "outputs": [
    {
     "data": {
      "text/html": [
       "<div>\n",
       "<style scoped>\n",
       "    .dataframe tbody tr th:only-of-type {\n",
       "        vertical-align: middle;\n",
       "    }\n",
       "\n",
       "    .dataframe tbody tr th {\n",
       "        vertical-align: top;\n",
       "    }\n",
       "\n",
       "    .dataframe thead th {\n",
       "        text-align: right;\n",
       "    }\n",
       "</style>\n",
       "<table border=\"1\" class=\"dataframe\">\n",
       "  <thead>\n",
       "    <tr style=\"text-align: right;\">\n",
       "      <th>Premium</th>\n",
       "      <th>canceled</th>\n",
       "      <th>not canceled</th>\n",
       "    </tr>\n",
       "    <tr>\n",
       "      <th>Group</th>\n",
       "      <th></th>\n",
       "      <th></th>\n",
       "    </tr>\n",
       "  </thead>\n",
       "  <tbody>\n",
       "    <tr>\n",
       "      <th>C1</th>\n",
       "      <td>12</td>\n",
       "      <td>83</td>\n",
       "    </tr>\n",
       "    <tr>\n",
       "      <th>T</th>\n",
       "      <td>7</td>\n",
       "      <td>58</td>\n",
       "    </tr>\n",
       "  </tbody>\n",
       "</table>\n",
       "</div>"
      ],
      "text/plain": [
       "Premium  canceled  not canceled\n",
       "Group                          \n",
       "C1             12            83\n",
       "T               7            58"
      ]
     },
     "execution_count": 115,
     "metadata": {},
     "output_type": "execute_result"
    }
   ],
   "source": [
    "# взглянем на распределение пользователей\n",
    "\n",
    "pd.crosstab(df_users_1.Group, df_users_1.Premium)"
   ]
  },
  {
   "cell_type": "markdown",
   "metadata": {},
   "source": [
    "Пользователей без подписки в нашем дф нет, что правильно"
   ]
  },
  {
   "cell_type": "markdown",
   "metadata": {},
   "source": [
    "Так как мы имеем дело с категориями и группами клиентов, то для рассчета статистики используем хи-квадрат\n",
    "\n",
    "- $H_0$: Распределение по категориям аналогичное\n",
    "- $H_1$: Распределение по категориям значимо отличается"
   ]
  },
  {
   "cell_type": "code",
   "execution_count": 116,
   "metadata": {},
   "outputs": [
    {
     "data": {
      "text/plain": [
       "(0.0118480368377227, 0.9133225059176844)"
      ]
     },
     "execution_count": 116,
     "metadata": {},
     "output_type": "execute_result"
    }
   ],
   "source": [
    "stat5, p5, dof5, expected5 = chi2_contingency(pd.crosstab(df_users_1.Group, df_users_1.Premium))\n",
    "stat5, p5"
   ]
  },
  {
   "cell_type": "code",
   "execution_count": 117,
   "metadata": {},
   "outputs": [
    {
     "name": "stdout",
     "output_type": "stream",
     "text": [
      "Не отклоняем H0\n"
     ]
    }
   ],
   "source": [
    "prob = 0.95\n",
    "critical = chi2.ppf(prob, dof5)\n",
    "if abs(stat5) >= critical:\n",
    "    print('Отклоняем H0')\n",
    "else:\n",
    "    print('Не отклоняем H0')"
   ]
  },
  {
   "cell_type": "code",
   "execution_count": 118,
   "metadata": {},
   "outputs": [
    {
     "name": "stdout",
     "output_type": "stream",
     "text": [
      "Не отклоняем H0\n"
     ]
    }
   ],
   "source": [
    "prob = 0.95\n",
    "alpha = 1.0 - prob\n",
    "if p5 <= alpha:\n",
    "    print('Отклоняем H0')\n",
    "else:\n",
    "    print('Не отклоняем H0')"
   ]
  },
  {
   "cell_type": "markdown",
   "metadata": {},
   "source": [
    "Из-за высокого pvalue мы остаемся с нулевой гипотезой, а значит что увеличение стоимости подписки не повлекло за собой более частое отключение подписки, оттока в этом плане нет"
   ]
  },
  {
   "cell_type": "markdown",
   "metadata": {},
   "source": [
    "----------------------------"
   ]
  },
  {
   "cell_type": "markdown",
   "metadata": {},
   "source": [
    "Посмотрим и на то, повлияло ли изменение стоимости полной версии подписки на привлекательность пробной версии. Для этого посмотрим на то, какую подписку пользователь выбирал первой при покупке: полную или пробную\n",
    "\n",
    "- $H_0$: возросшая стоимость подписки не повлияла на выбор пользователя между пробной и полной подпиской\n",
    "- $H_1$: из-за изменения стоимости полной версии подписки, выбор пользователя изменился"
   ]
  },
  {
   "cell_type": "code",
   "execution_count": 119,
   "metadata": {},
   "outputs": [],
   "source": [
    "# из общего дф возьмем необходимые данные, убрав лишние транзакции\n",
    "\n",
    "df_transactions_all_1 = df_transactions_all.query('product_type != \"other_type\" and Group != \"C2\"')"
   ]
  },
  {
   "cell_type": "code",
   "execution_count": 120,
   "metadata": {},
   "outputs": [],
   "source": [
    "# Отфильтруем дф по дате транзакции (от самых первых до последних)\n",
    "df_transactions_all_1 = df_transactions_all_1.sort_values('paid_at')"
   ]
  },
  {
   "cell_type": "code",
   "execution_count": 121,
   "metadata": {},
   "outputs": [],
   "source": [
    "# Теперь удалим все дуликаты по uid и оставим только первый, \n",
    "# тем самым получим только первую покупку пользователем подписки\n",
    "df_transactions_all_1 = df_transactions_all_1.drop_duplicates(subset = 'uid', keep='first')"
   ]
  },
  {
   "cell_type": "code",
   "execution_count": 122,
   "metadata": {},
   "outputs": [
    {
     "data": {
      "text/html": [
       "<div>\n",
       "<style scoped>\n",
       "    .dataframe tbody tr th:only-of-type {\n",
       "        vertical-align: middle;\n",
       "    }\n",
       "\n",
       "    .dataframe tbody tr th {\n",
       "        vertical-align: top;\n",
       "    }\n",
       "\n",
       "    .dataframe thead th {\n",
       "        text-align: right;\n",
       "    }\n",
       "</style>\n",
       "<table border=\"1\" class=\"dataframe\">\n",
       "  <thead>\n",
       "    <tr style=\"text-align: right;\">\n",
       "      <th></th>\n",
       "      <th>uid</th>\n",
       "      <th>country</th>\n",
       "      <th>joined_at</th>\n",
       "      <th>paid_at</th>\n",
       "      <th>revenue</th>\n",
       "      <th>payment_id</th>\n",
       "      <th>from_page</th>\n",
       "      <th>product_type</th>\n",
       "      <th>Group</th>\n",
       "      <th>Class</th>\n",
       "    </tr>\n",
       "  </thead>\n",
       "  <tbody>\n",
       "    <tr>\n",
       "      <th>374</th>\n",
       "      <td>892145004</td>\n",
       "      <td>Chile</td>\n",
       "      <td>2017-10-20 04:25:00</td>\n",
       "      <td>2017-01-11 02:56:00</td>\n",
       "      <td>9919</td>\n",
       "      <td>147</td>\n",
       "      <td>trial_vip_popup</td>\n",
       "      <td>trial_premium</td>\n",
       "      <td>C1</td>\n",
       "      <td>Control</td>\n",
       "    </tr>\n",
       "    <tr>\n",
       "      <th>254</th>\n",
       "      <td>891908385</td>\n",
       "      <td>Argentina</td>\n",
       "      <td>2017-10-25 02:33:00</td>\n",
       "      <td>2017-01-11 04:34:00</td>\n",
       "      <td>10686</td>\n",
       "      <td>147</td>\n",
       "      <td>trial_vip_popup</td>\n",
       "      <td>trial_premium</td>\n",
       "      <td>C1</td>\n",
       "      <td>Control</td>\n",
       "    </tr>\n",
       "    <tr>\n",
       "      <th>372</th>\n",
       "      <td>891556971</td>\n",
       "      <td>France</td>\n",
       "      <td>2017-01-11 05:07:00</td>\n",
       "      <td>2017-01-11 05:16:00</td>\n",
       "      <td>2886</td>\n",
       "      <td>68</td>\n",
       "      <td>none</td>\n",
       "      <td>premium_no_trial</td>\n",
       "      <td>C1</td>\n",
       "      <td>Control</td>\n",
       "    </tr>\n",
       "    <tr>\n",
       "      <th>362</th>\n",
       "      <td>891543996</td>\n",
       "      <td>United States of America</td>\n",
       "      <td>2017-01-11 13:42:00</td>\n",
       "      <td>2017-01-11 14:41:00</td>\n",
       "      <td>6292</td>\n",
       "      <td>147</td>\n",
       "      <td>user_profile</td>\n",
       "      <td>premium_no_trial</td>\n",
       "      <td>C1</td>\n",
       "      <td>Control</td>\n",
       "    </tr>\n",
       "    <tr>\n",
       "      <th>87</th>\n",
       "      <td>891881343</td>\n",
       "      <td>United States of America</td>\n",
       "      <td>2017-10-25 17:58:00</td>\n",
       "      <td>2017-01-11 21:08:00</td>\n",
       "      <td>12727</td>\n",
       "      <td>147</td>\n",
       "      <td>dating</td>\n",
       "      <td>trial_premium</td>\n",
       "      <td>C1</td>\n",
       "      <td>Control</td>\n",
       "    </tr>\n",
       "  </tbody>\n",
       "</table>\n",
       "</div>"
      ],
      "text/plain": [
       "           uid                   country           joined_at  \\\n",
       "374  892145004                     Chile 2017-10-20 04:25:00   \n",
       "254  891908385                 Argentina 2017-10-25 02:33:00   \n",
       "372  891556971                    France 2017-01-11 05:07:00   \n",
       "362  891543996  United States of America 2017-01-11 13:42:00   \n",
       "87   891881343  United States of America 2017-10-25 17:58:00   \n",
       "\n",
       "                paid_at  revenue  payment_id        from_page  \\\n",
       "374 2017-01-11 02:56:00     9919         147  trial_vip_popup   \n",
       "254 2017-01-11 04:34:00    10686         147  trial_vip_popup   \n",
       "372 2017-01-11 05:16:00     2886          68             none   \n",
       "362 2017-01-11 14:41:00     6292         147     user_profile   \n",
       "87  2017-01-11 21:08:00    12727         147           dating   \n",
       "\n",
       "         product_type Group    Class  \n",
       "374     trial_premium    C1  Control  \n",
       "254     trial_premium    C1  Control  \n",
       "372  premium_no_trial    C1  Control  \n",
       "362  premium_no_trial    C1  Control  \n",
       "87      trial_premium    C1  Control  "
      ]
     },
     "execution_count": 122,
     "metadata": {},
     "output_type": "execute_result"
    }
   ],
   "source": [
    "df_transactions_all_1.head()"
   ]
  },
  {
   "cell_type": "markdown",
   "metadata": {},
   "source": [
    "Таким образом мы получили список пользователей из тестовой и контрольной групп, с информацией об их первой покупке премиальной подписки (полной или пробной) и теперь мы можем сравнить, какую версию подписки пользователи предпочитали покупать первой."
   ]
  },
  {
   "cell_type": "code",
   "execution_count": 123,
   "metadata": {},
   "outputs": [
    {
     "data": {
      "text/html": [
       "<div>\n",
       "<style scoped>\n",
       "    .dataframe tbody tr th:only-of-type {\n",
       "        vertical-align: middle;\n",
       "    }\n",
       "\n",
       "    .dataframe tbody tr th {\n",
       "        vertical-align: top;\n",
       "    }\n",
       "\n",
       "    .dataframe thead th {\n",
       "        text-align: right;\n",
       "    }\n",
       "</style>\n",
       "<table border=\"1\" class=\"dataframe\">\n",
       "  <thead>\n",
       "    <tr style=\"text-align: right;\">\n",
       "      <th>product_type</th>\n",
       "      <th>premium_no_trial</th>\n",
       "      <th>trial_premium</th>\n",
       "    </tr>\n",
       "    <tr>\n",
       "      <th>Group</th>\n",
       "      <th></th>\n",
       "      <th></th>\n",
       "    </tr>\n",
       "  </thead>\n",
       "  <tbody>\n",
       "    <tr>\n",
       "      <th>C1</th>\n",
       "      <td>95</td>\n",
       "      <td>66</td>\n",
       "    </tr>\n",
       "    <tr>\n",
       "      <th>T</th>\n",
       "      <td>65</td>\n",
       "      <td>60</td>\n",
       "    </tr>\n",
       "  </tbody>\n",
       "</table>\n",
       "</div>"
      ],
      "text/plain": [
       "product_type  premium_no_trial  trial_premium\n",
       "Group                                        \n",
       "C1                          95             66\n",
       "T                           65             60"
      ]
     },
     "execution_count": 123,
     "metadata": {},
     "output_type": "execute_result"
    }
   ],
   "source": [
    "# взглянем на распределение пользователей\n",
    "\n",
    "pd.crosstab(df_transactions_all_1.Group, df_transactions_all_1.product_type)"
   ]
  },
  {
   "cell_type": "markdown",
   "metadata": {},
   "source": [
    "Так как мы имеем дело с категориями и группами клиентов, то для рассчета статистики используем хи-квадрат\n",
    "\n",
    "- $H_0$: Распределение по первой покупке пробной и полной подписки аналогичное\n",
    "- $H_1$: Распределение по первой покупке пробной и полной подписки значимо отличается"
   ]
  },
  {
   "cell_type": "code",
   "execution_count": 124,
   "metadata": {},
   "outputs": [
    {
     "data": {
      "text/plain": [
       "(1.131599758454108, 0.28743436463136196)"
      ]
     },
     "execution_count": 124,
     "metadata": {},
     "output_type": "execute_result"
    }
   ],
   "source": [
    "stat6, p6, dof6, expected6 = chi2_contingency(pd.crosstab(df_transactions_all_1.Group, df_transactions_all_1.product_type))\n",
    "stat6, p6"
   ]
  },
  {
   "cell_type": "code",
   "execution_count": 125,
   "metadata": {},
   "outputs": [
    {
     "name": "stdout",
     "output_type": "stream",
     "text": [
      "Не отклоняем H0\n"
     ]
    }
   ],
   "source": [
    "prob = 0.95\n",
    "critical = chi2.ppf(prob, dof6)\n",
    "if abs(stat6) >= critical:\n",
    "    print('Отклоняем H0')\n",
    "else:\n",
    "    print('Не отклоняем H0')"
   ]
  },
  {
   "cell_type": "code",
   "execution_count": 126,
   "metadata": {},
   "outputs": [
    {
     "name": "stdout",
     "output_type": "stream",
     "text": [
      "Не отклоняем H0\n"
     ]
    }
   ],
   "source": [
    "prob = 0.95\n",
    "alpha = 1.0 - prob\n",
    "if p6 <= alpha:\n",
    "    print('Отклоняем H0')\n",
    "else:\n",
    "    print('Не отклоняем H0')"
   ]
  },
  {
   "cell_type": "markdown",
   "metadata": {},
   "source": [
    "По итогу можно говорить о том, что изменение стоимости подписки не привело к тому, что пользователи, когда выбирают какую подписку приобрести первой, стали реже подключать полную версию подписки, предпочитая ей пробную"
   ]
  },
  {
   "cell_type": "markdown",
   "metadata": {},
   "source": [
    "-----------------\n",
    "\n",
    "## Сравнение Total_revenue"
   ]
  },
  {
   "cell_type": "markdown",
   "metadata": {},
   "source": [
    "Проверим разность среднего total_revenue в обоих группах. \n",
    "\n",
    "Благодаря этому мы можем сравнить средний общий доход от пользователя (от покупок монет, подписок и прочего) в двух группах среди платящих премиум пользователей и платящих пользователей в целом."
   ]
  },
  {
   "cell_type": "markdown",
   "metadata": {},
   "source": [
    "Для этого сперва рассмотрим дф с общей выручкой на платящего премиум пользователя в тестовой и первой контрольной группе"
   ]
  },
  {
   "cell_type": "code",
   "execution_count": 127,
   "metadata": {},
   "outputs": [],
   "source": [
    "df_tr_pr = pd.concat([users_c1, users_t])"
   ]
  },
  {
   "cell_type": "code",
   "execution_count": 128,
   "metadata": {},
   "outputs": [
    {
     "data": {
      "image/png": "[encoded data removed]",
      "text/plain": [
       "<Figure size 1008x504 with 2 Axes>"
      ]
     },
     "metadata": {
      "needs_background": "light"
     },
     "output_type": "display_data"
    }
   ],
   "source": [
    "# Посмотрим на то, как распределены пользователи по total revenue\n",
    "\n",
    "g = sns.FacetGrid (data=df_tr_pr, col='Class', col_wrap= 2, height= 7)\n",
    "\n",
    "g. map (sns.histplot , 'total_revenue') \n",
    "\n",
    "sns.despine()"
   ]
  },
  {
   "cell_type": "markdown",
   "metadata": {},
   "source": [
    "Чтобы узнать статзначимы ли различия среднего total_revenue в двух группах (тестовой и контрольной), можно применить t-тест, однако перед этим нужно понимать различны ли дисперсии в группах, поэтому проведем тест Левена:\n",
    "\n",
    "- $H_0$: дисперсии не отличаются (equal_var=True)\n",
    "- $H_1$: дисперсии различны (equal_var=False)"
   ]
  },
  {
   "cell_type": "code",
   "execution_count": 129,
   "metadata": {},
   "outputs": [
    {
     "data": {
      "text/plain": [
       "LeveneResult(statistic=3.2726870498626783, pvalue=0.07234321841189531)"
      ]
     },
     "execution_count": 129,
     "metadata": {},
     "output_type": "execute_result"
    }
   ],
   "source": [
    "levene(users_c1.total_revenue, users_t.total_revenue)"
   ]
  },
  {
   "cell_type": "markdown",
   "metadata": {},
   "source": [
    "Так как дисперсии статзначимо не отличаются (остаемся верны нулевой гиптезе), то применим стандартный Т-тест\n",
    "\n",
    "- $H_0$: статистически значимых различий между средним total_revenue в группах нет\n",
    "- $H_1$: статистически значимые различия между средним total_revenue в группах есть"
   ]
  },
  {
   "cell_type": "code",
   "execution_count": 130,
   "metadata": {},
   "outputs": [
    {
     "data": {
      "text/plain": [
       "Ttest_indResult(statistic=-2.404044566855862, pvalue=0.017372391929522526)"
      ]
     },
     "execution_count": 130,
     "metadata": {},
     "output_type": "execute_result"
    }
   ],
   "source": [
    "ttest_ind(users_c1.total_revenue, users_t.total_revenue, equal_var=True)"
   ]
  },
  {
   "cell_type": "markdown",
   "metadata": {},
   "source": [
    "Так как pvalue меньше 0.05, мы отвергаем нулевую гипотезу и можем говорить о том, что total_revenue платящих премиум пользователей в тестовой группе статзначимо изменился.\n",
    "\n",
    "Взглянем на то, в какую сторону он изменился:"
   ]
  },
  {
   "cell_type": "code",
   "execution_count": 131,
   "metadata": {},
   "outputs": [
    {
     "name": "stdout",
     "output_type": "stream",
     "text": [
      "7107.221052631579\n"
     ]
    }
   ],
   "source": [
    "print(users_t.total_revenue.mean() - users_c1.total_revenue.mean())"
   ]
  },
  {
   "cell_type": "markdown",
   "metadata": {},
   "source": [
    "Так как и средний total_revenue в тестовой группе выше на 7107 у.е., то из этого мы понимаем, что платящие премиум пользователи тестовой группы приносят платформе в среднем больше общей выручки, чем в контрольной.\n",
    "\n",
    "--------"
   ]
  },
  {
   "cell_type": "markdown",
   "metadata": {},
   "source": [
    "Теперь рассмотрим дф с общей выручкой на платящего пользователя в тестовой и первой контрольной группе"
   ]
  },
  {
   "cell_type": "code",
   "execution_count": 132,
   "metadata": {},
   "outputs": [],
   "source": [
    "df_tr = pd.concat([ut_all, uc1_all])"
   ]
  },
  {
   "cell_type": "code",
   "execution_count": 133,
   "metadata": {},
   "outputs": [
    {
     "data": {
      "image/png": "[encoded data removed]",
      "text/plain": [
       "<Figure size 1008x504 with 2 Axes>"
      ]
     },
     "metadata": {
      "needs_background": "light"
     },
     "output_type": "display_data"
    }
   ],
   "source": [
    "# Посмотрим на то, как распределены пользователи по total revenue\n",
    "\n",
    "g = sns.FacetGrid (data=df_tr, col='Class', col_wrap= 2, height= 7)\n",
    "\n",
    "g. map (sns.histplot , 'total_revenue') \n",
    "\n",
    "sns.despine()"
   ]
  },
  {
   "cell_type": "markdown",
   "metadata": {},
   "source": [
    "Чтобы узнать статзначимы ли различия среднего total_revenue в двух группах (тестовой и контрольной), можно применить t-тест, однако перед этим нужно понимать различны ли дисперсии в группах, поэтому проведем тест Левена:\n",
    "\n",
    "- $H_0$: дисперсии не отличаются (equal_var=True)\n",
    "- $H_1$: дисперсии различны (equal_var=False)"
   ]
  },
  {
   "cell_type": "code",
   "execution_count": 134,
   "metadata": {},
   "outputs": [
    {
     "data": {
      "text/plain": [
       "LeveneResult(statistic=3.0179143789411764, pvalue=0.08341840317428911)"
      ]
     },
     "execution_count": 134,
     "metadata": {},
     "output_type": "execute_result"
    }
   ],
   "source": [
    "levene(ut_all.total_revenue, uc1_all.total_revenue)"
   ]
  },
  {
   "cell_type": "markdown",
   "metadata": {},
   "source": [
    "Так как дисперсии статзначимо не отличаются (остаемся верны нулевой гиптезе), то применим стандартный Т-тест\n",
    "\n",
    "- $H_0$: статистически значимых различий между средним total_revenue в группах нет\n",
    "- $H_1$: статистически значимые различия между средним total_revenue в группах есть"
   ]
  },
  {
   "cell_type": "code",
   "execution_count": 135,
   "metadata": {},
   "outputs": [
    {
     "data": {
      "text/plain": [
       "Ttest_indResult(statistic=3.281098476405247, pvalue=0.0011612553802745587)"
      ]
     },
     "execution_count": 135,
     "metadata": {},
     "output_type": "execute_result"
    }
   ],
   "source": [
    "ttest_ind(ut_all.total_revenue, uc1_all.total_revenue, equal_var=True)"
   ]
  },
  {
   "cell_type": "markdown",
   "metadata": {},
   "source": [
    "Так как pvalue меньше 0.05, мы отвергаем нулевую гипотезу и можем говорить о том, что total_revenue платящих пользователей в тестовой группе статзначимо изменился.\n",
    "\n",
    "Взглянем на то, в какую сторону он изменился:"
   ]
  },
  {
   "cell_type": "code",
   "execution_count": 136,
   "metadata": {},
   "outputs": [
    {
     "name": "stdout",
     "output_type": "stream",
     "text": [
      "5546.849620791265\n"
     ]
    }
   ],
   "source": [
    "print(ut_all.total_revenue.mean() - uc1_all.total_revenue.mean())"
   ]
  },
  {
   "cell_type": "markdown",
   "metadata": {},
   "source": [
    "Так как и средний total_revenue в тестовой группе выше на 5546 у.е., то из этого мы понимаем, что платящие пользователи тестовой группы приносят платформе в среднем больше общей выручки, чем в контрольной."
   ]
  },
  {
   "cell_type": "markdown",
   "metadata": {},
   "source": [
    "В итоге мы получили, что:\n",
    "\n",
    "- хоть средний чек при покупке премиальной подписки статзначимо не вырос, но платформа начала получать с премиальных пользователей в среднем больше общей выручки\n",
    "\n",
    "- также и в разрезе всех пользователей средняя общая выручка с пользователя выросла статистически значимо"
   ]
  },
  {
   "cell_type": "markdown",
   "metadata": {},
   "source": [
    "---------------\n",
    "\n",
    "### Рассчитаем метрики для групп \n",
    "\n",
    "Отобразим наглядно число пользователей в группе, премиальных пользователей, число юзеров без премиума (для статистического теста конверсии), непосредственно конверсию в покупку премиальной подписки, ARPPU, ARPPU_Premium:"
   ]
  },
  {
   "cell_type": "code",
   "execution_count": 137,
   "metadata": {},
   "outputs": [
    {
     "data": {
      "text/html": [
       "<div>\n",
       "<style scoped>\n",
       "    .dataframe tbody tr th:only-of-type {\n",
       "        vertical-align: middle;\n",
       "    }\n",
       "\n",
       "    .dataframe tbody tr th {\n",
       "        vertical-align: top;\n",
       "    }\n",
       "\n",
       "    .dataframe thead th {\n",
       "        text-align: right;\n",
       "    }\n",
       "</style>\n",
       "<table border=\"1\" class=\"dataframe\">\n",
       "  <thead>\n",
       "    <tr style=\"text-align: right;\">\n",
       "      <th></th>\n",
       "      <th>Users</th>\n",
       "      <th>Premium_users</th>\n",
       "      <th>No_premium</th>\n",
       "      <th>Сonversion</th>\n",
       "      <th>ARPPU</th>\n",
       "      <th>ARPPU_Premium</th>\n",
       "    </tr>\n",
       "  </thead>\n",
       "  <tbody>\n",
       "    <tr>\n",
       "      <th>Test</th>\n",
       "      <td>127</td>\n",
       "      <td>65</td>\n",
       "      <td>62</td>\n",
       "      <td>0.51</td>\n",
       "      <td>12868.26</td>\n",
       "      <td>25142.60</td>\n",
       "    </tr>\n",
       "    <tr>\n",
       "      <th>Control_1</th>\n",
       "      <td>163</td>\n",
       "      <td>95</td>\n",
       "      <td>68</td>\n",
       "      <td>0.58</td>\n",
       "      <td>9155.27</td>\n",
       "      <td>15708.52</td>\n",
       "    </tr>\n",
       "  </tbody>\n",
       "</table>\n",
       "</div>"
      ],
      "text/plain": [
       "           Users  Premium_users  No_premium  Сonversion     ARPPU  \\\n",
       "Test         127             65          62        0.51  12868.26   \n",
       "Control_1    163             95          68        0.58   9155.27   \n",
       "\n",
       "           ARPPU_Premium  \n",
       "Test            25142.60  \n",
       "Control_1       15708.52  "
      ]
     },
     "execution_count": 137,
     "metadata": {},
     "output_type": "execute_result"
    }
   ],
   "source": [
    "test = []\n",
    "\n",
    "Users         = ut_all.uid.nunique()\n",
    "Premium_users = users_test.uid.nunique()\n",
    "No_pr_user    = Users - Premium_users\n",
    "Revenue       = tt_all.revenue.sum()\n",
    "Сonversion    = (Premium_users/Users)\n",
    "ARPPU         = (Revenue/Users)\n",
    "ARPPU_Premium = (Revenue/Premium_users)\n",
    "\n",
    "test.append(pd.DataFrame(index = ['Test'], data = {'Users':Users, 'Premium_users':Premium_users, 'No_premium': No_pr_user, \n",
    "                                                      'Сonversion':Сonversion, 'ARPPU':ARPPU, 'ARPPU_Premium':ARPPU_Premium}))\n",
    "test = pd.concat(test)\n",
    "test[['Сonversion','ARPPU', 'ARPPU_Premium']] = test[['Сonversion','ARPPU', 'ARPPU_Premium']].round(2)\n",
    "\n",
    "\n",
    "control_1 = []\n",
    "\n",
    "Users         = uc1_all.uid.nunique()\n",
    "Premium_users = users_control_1.uid.nunique()\n",
    "No_pr_user    = Users - Premium_users\n",
    "Revenue       = tc1_all.revenue.sum()\n",
    "Сonversion    = (Premium_users/Users)\n",
    "ARPPU         = (Revenue/Users)\n",
    "ARPPU_Premium = (Revenue/Premium_users)\n",
    "\n",
    "control_1.append(pd.DataFrame(index = ['Control_1'], data = {'Users':Users, 'Premium_users':Premium_users, 'No_premium': No_pr_user, \n",
    "                                                      'Сonversion':Сonversion, 'ARPPU':ARPPU, 'ARPPU_Premium':ARPPU_Premium}))\n",
    "control_1 = pd.concat(control_1)\n",
    "control_1[['Сonversion','ARPPU', 'ARPPU_Premium']] = control_1[['Сonversion','ARPPU', 'ARPPU_Premium']].round(2)\n",
    "\n",
    "\n",
    "metric_merge = pd.concat([test, control_1])\n",
    "metric_merge"
   ]
  },
  {
   "cell_type": "markdown",
   "metadata": {},
   "source": [
    "Стало видно, что выборки примерно одинаковых размеров. Конверсии в покупку в группах очень схожи, но незначительно отличаются (по сравнению с тестовой группой, в контрольной конверсия чуть выше)\n",
    "\n",
    "ARPPU - в тестовой группе  вырос и это не погрешность, что было выявлено выше.\n",
    "\n",
    "ARPPU_Premium также вырос.\n",
    "\n",
    "Теперь сравним конверсии в тестовой и контрольных группах. Так как переменные (премиальный, не премиальный) номинативные, то используем для проверки хи-квадрат:\n",
    "\n",
    "- $H_0$: Конверсия в группах одинаковая \n",
    "- $H_1$: Конверсия в группах различна"
   ]
  },
  {
   "cell_type": "code",
   "execution_count": 138,
   "metadata": {},
   "outputs": [],
   "source": [
    "stat3, p3, dof3, expected3 = chi2_contingency(pd.concat([test, control_1])[['Premium_users','No_premium']])"
   ]
  },
  {
   "cell_type": "code",
   "execution_count": 139,
   "metadata": {},
   "outputs": [
    {
     "data": {
      "text/plain": [
       "(1.1824290586110675, 0.2768620417640564)"
      ]
     },
     "execution_count": 139,
     "metadata": {},
     "output_type": "execute_result"
    }
   ],
   "source": [
    "stat3, p3"
   ]
  },
  {
   "cell_type": "code",
   "execution_count": 140,
   "metadata": {},
   "outputs": [
    {
     "name": "stdout",
     "output_type": "stream",
     "text": [
      "Не отклоняем H0\n"
     ]
    }
   ],
   "source": [
    "prob = 0.95\n",
    "critical = chi2.ppf(prob, dof3)\n",
    "if abs(stat3) >= critical:\n",
    "    print('Отклоняем H0')\n",
    "else:\n",
    "    print('Не отклоняем H0')"
   ]
  },
  {
   "cell_type": "code",
   "execution_count": 141,
   "metadata": {},
   "outputs": [
    {
     "name": "stdout",
     "output_type": "stream",
     "text": [
      "Не отклоняем H0\n"
     ]
    }
   ],
   "source": [
    "prob = 0.95\n",
    "alpha = 1.0 - prob\n",
    "if p3 <= alpha:\n",
    "    print('Отклоняем H0')\n",
    "else:\n",
    "    print('Не отклоняем H0')"
   ]
  },
  {
   "cell_type": "markdown",
   "metadata": {},
   "source": [
    "Таким образом мы видим, что незначительное снижение конверсии в тестовой группе погрешность (не отклоняем нулевую гипотезу) и глобально конверсия статзначимо не изменилась\n",
    "\n",
    "----------------------"
   ]
  },
  {
   "cell_type": "markdown",
   "metadata": {},
   "source": [
    "# Выводы"
   ]
  },
  {
   "cell_type": "markdown",
   "metadata": {},
   "source": [
    "По итогам проведенного эксперимента мы видим, что:\n",
    "\n",
    "- ARPPU_Premium статзначимо вырос, что может говорить о росте доходов компании при работе с платящими премиум пользователями\n",
    "- ARPPU по результатам эксперимента статзначимо изменился (вырос)\n",
    "- Оттока пользователей, которые используют подписку не произошло (подписку не стали чаще отключать)\n",
    "- Привлекательность платной подписки (по сравнению с пробной) не упала, ее подключают с той же частотой\n",
    "- Конверсия в покупку премиальной подписки также не изменилась\n",
    "\n",
    "\n",
    "Т.о. мы в моменте проведения экперимента не видим статзначимого увеличения среднего чека от покупки полной подписки, но при этом ARPPU_Premium у нас вырос, что может говорить о том, что премиальные пользователи стали больше тратить в нашем сервисе, что положительно скажется на бизнесе.\n",
    "\n",
    "Если говорить о моментном результате - эксперимент прошел успешно и удалось нарастить прибыль и не потерять привлекательность подписки в глазах пользователей.\n"
   ]
  }
 ],
 "metadata": {
  "kernelspec": {
   "display_name": "Python 3 (ipykernel)",
   "language": "python",
   "name": "python3"
  },
  "language_info": {
   "codemirror_mode": {
    "name": "ipython",
    "version": 3
   },
   "file_extension": ".py",
   "mimetype": "text/x-python",
   "name": "python",
   "nbconvert_exporter": "python",
   "pygments_lexer": "ipython3",
   "version": "3.11.4"
  }
 },
 "nbformat": 4,
 "nbformat_minor": 4
}
